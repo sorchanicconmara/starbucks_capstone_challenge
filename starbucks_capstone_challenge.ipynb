{
 "cells": [
  {
   "cell_type": "markdown",
   "metadata": {},
   "source": [
    "<center><h1><font color='#219ebc'>Starbucks Capstone Challenge</font></h1></center>\n",
    "<center><h3><font color='#ffb703'>Udacity Data Scientist Nanodegree <br>Sorcha Nic Conmara</font></h3></center>"
   ]
  },
  {
   "cell_type": "markdown",
   "metadata": {},
   "source": [
    "# Contents:\n",
    "### 1 - [Project Definition](#section1)\n",
    "### 2 - [Analysis](#section2)\n",
    "### 3 - [Modelling Prep](#section3)\n",
    "### 4 - [Modelling](#section4)\n",
    "### 5 - [Model Evaluation](#section5)\n",
    "### 6 - [Conclusion](#section6)"
   ]
  },
  {
   "cell_type": "markdown",
   "metadata": {},
   "source": [
    "The entire notebook takes **~15mins** to fully run."
   ]
  },
  {
   "cell_type": "markdown",
   "metadata": {},
   "source": [
    "---\n",
    "<a id='section1'><h1> 1. Project Definition </h1></a>\n",
    "\n",
    "---"
   ]
  },
  {
   "cell_type": "markdown",
   "metadata": {},
   "source": [
    "## Project Overview\n",
    "\n",
    "This data set contains simulated data that mimics customer behavior on the Starbucks rewards mobile app. Once every few days, Starbucks sends out an offer to users of the mobile app. An offer can be merely an advertisement for a drink or an actual offer such as a discount or BOGO (buy one get one free). Some users might not receive any offer during certain weeks. \n",
    "\n",
    "## Problem Statement\n",
    "\n",
    "Not all users receive the same offer, and that is the challenge to solve with this data set.\n",
    "\n",
    "Your task is to combine transaction, demographic and offer data to determine which demographic groups respond best to which offer type. This data set is a simplified version of the real Starbucks app because the underlying simulator only has one product whereas Starbucks actually sells dozens of products.\n",
    "\n",
    "Every offer has a validity period before the offer expires. As an example, a BOGO offer might be valid for only 5 days. You'll see in the data set that informational offers have a validity period even though these ads are merely providing information about a product; for example, if an informational offer has 7 days of validity, you can assume the customer is feeling the influence of the offer for 7 days after receiving the advertisement.\n",
    "\n",
    "You'll be given transactional data showing user purchases made on the app including the timestamp of purchase and the amount of money spent on a purchase. This transactional data also has a record for each offer that a user receives as well as a record for when a user actually views the offer. There are also records for when a user completes an offer. \n",
    "\n",
    "Keep in mind as well that someone using the app might make a purchase through the app without having received an offer or seen an offer.\n",
    "\n",
    "## Example\n",
    "\n",
    "To give an example, a user could receive a discount offer buy 10 dollars get 2 off on Monday. The offer is valid for 10 days from receipt. If the customer accumulates at least 10 dollars in purchases during the validity period, the customer completes the offer.\n",
    "\n",
    "However, there are a few things to watch out for in this data set. Customers do not opt into the offers that they receive; in other words, a user can receive an offer, never actually view the offer, and still complete the offer. For example, a user might receive the \"buy 10 dollars get 2 dollars off offer\", but the user never opens the offer during the 10 day validity period. The customer spends 15 dollars during those ten days. There will be an offer completion record in the data set; however, the customer was not influenced by the offer because the customer never viewed the offer.\n",
    "\n",
    "## Cleaning\n",
    "\n",
    "This makes data cleaning especially important and tricky.\n",
    "\n",
    "You'll also want to take into account that some demographic groups will make purchases even if they don't receive an offer. From a business perspective, if a customer is going to make a 10 dollar purchase without an offer anyway, you wouldn't want to send a buy 10 dollars get 2 dollars off offer. You'll want to try to assess what a certain demographic group will buy when not receiving any offers."
   ]
  },
  {
   "cell_type": "markdown",
   "metadata": {},
   "source": [
    "## Data Sets\n",
    "\n",
    "The data is contained in three files:\n",
    "\n",
    "* portfolio.json - containing offer ids and meta data about each offer (duration, type, etc.)\n",
    "* profile.json - demographic data for each customer\n",
    "* transcript.json - records for transactions, offers received, offers viewed, and offers completed\n",
    "\n",
    "Here is the schema and explanation of each variable in the files:\n",
    "\n",
    "**portfolio.json**\n",
    "* **id (string)** - offer id\n",
    "* **offer_type (string)** - type of offer ie BOGO, discount, informational\n",
    "* **difficulty (int)** - minimum required spend to complete an offer\n",
    "* **reward (int)** - reward given for completing an offer\n",
    "* **duration (int)** - time for offer to be open, in days\n",
    "* **channels (list of strings)**\n",
    "---\n",
    "**profile.json**\n",
    "* **age (int)** - age of the customer \n",
    "* **became_member_on (int)** - date when customer created an app account\n",
    "* **gender (str)** - gender of the customer (note some entries contain 'O' for other rather than M or F)\n",
    "* **id (str)** - customer id\n",
    "* **income (float)** - customer's income\n",
    "---\n",
    "**transcript.json**\n",
    "* **event (str)** - record description (ie transaction, offer received, offer viewed, etc.)\n",
    "* **person (str)** - customer id\n",
    "* **time (int)** - time in hours since start of test. The data begins at time t=0\n",
    "* **value - (dict of strings)** - either an offer id or transaction amount depending on the record"
   ]
  },
  {
   "cell_type": "markdown",
   "metadata": {},
   "source": [
    "## Method"
   ]
  },
  {
   "cell_type": "markdown",
   "metadata": {},
   "source": [
    "For this capstone challenge, I'm particularly interested in investigating the customer demographics, the offers portfolio and the transcripts data to answer a few questions such as:\n",
    "\n",
    "**Q1.** What was the age distribution of Starbucks customers in the dataset?\n",
    "\n",
    "**Q2.** What was the distribution of customer tenure in the dataset?\n",
    "\n",
    "**Q3.** What year saw the most new memberships and what month of the year saw the most memberships?\n",
    "\n",
    "**Q4.** What was the gender distribution of customers in the Starbucks dataset? \n",
    "\n",
    "**Q5.** What was the income distribution by gender?\n",
    "\n",
    "**Q6.** What was the income distribution by age group?\n",
    "\n",
    "**Q7.** What was the distribution of events in the transcript dataset?\n",
    "\n",
    "**Q8.** Was there a pattern in the release of offers?\n",
    "\n",
    "**Q9.** What was the distribution of transaction amounts?\n",
    "\n",
    "**Q10.** What were the most common offer types by channel?\n",
    "\n",
    "**Q11.** What were the distributions for duration, reward and difficulty of offers?\n",
    "\n",
    "**Q12.** What was the mean spend and number of transactions by gender?\n",
    "\n",
    "**Q13.** What offer types were most popular across age groups and income groups?\n",
    "\n",
    "**Q14.** What offer types were most popular across genders and membership years?\n"
   ]
  },
  {
   "cell_type": "markdown",
   "metadata": {},
   "source": [
    "Following on from this, I train a supervised propensity model to predict **the propensity of a customer completing an offer WITHOUT any influence from the app versus a customer completing an offer as a direct result of viewing an offer from the app (influenced).** Ideally, a model such as the one in this notebook would be used to help to identify which customers would be most responsive to receiving an offer and would be likely to view it and complete it. It would also help to identify those customers likely to complete the offer regardless and therefore wouldn't necessarily need to receive the offer.\n",
    "\n",
    "A number of models and parameters were trialled using GridSearchCV with **LightGBM** as the final best model, producing an accuracy score of 0.74.\n",
    "\n",
    "**Model Target:**\n",
    "- 1 = Customer completed an offer after viewing it in the app\n",
    "- 0 = Customer completed an offer without viewing it in the app beforehand"
   ]
  },
  {
   "cell_type": "markdown",
   "metadata": {},
   "source": [
    "This notebook will cover the following:\n",
    "\n",
    "- Data Exploration\n",
    "- Data Wrangling/Pre-processing/Cleaning\n",
    "- Data Visualisation\n",
    "- Feature Engineering\n",
    "- Data Encoding\n",
    "- Data Scaling\n",
    "- Development of a Supervised Machine Learning Model\n",
    "- Model Evaluation\n",
    "- Conclusion"
   ]
  },
  {
   "cell_type": "markdown",
   "metadata": {},
   "source": [
    "## Metrics"
   ]
  },
  {
   "cell_type": "markdown",
   "metadata": {},
   "source": [
    "The metric chosen to evaluate the supervised model was **accuracy**. Accuracy is the proportion of true results among the total number of cases examined. This metric was chosen because the model was a **classification model** and accuracy allowed me to assess how well the model was at correctly predicting the target variable.\n",
    "\n",
    "***Accuracy = (TP+TN)/(TP+FP+FN+TN)***"
   ]
  },
  {
   "cell_type": "markdown",
   "metadata": {},
   "source": [
    "## Import Libraries & Raw Data"
   ]
  },
  {
   "cell_type": "code",
   "execution_count": 1,
   "metadata": {},
   "outputs": [],
   "source": [
    "import pandas as pd\n",
    "import numpy as np\n",
    "from datetime import datetime\n",
    "import math\n",
    "import json\n",
    "%matplotlib inline\n",
    "\n",
    "import matplotlib.pyplot as plt\n",
    "import seaborn as sns\n",
    "\n",
    "import lightgbm as lgbm\n",
    "from sklearn.svm import LinearSVC\n",
    "from sklearn.ensemble import RandomForestClassifier\n",
    "from sklearn.linear_model import SGDClassifier, LogisticRegression\n",
    "from sklearn.model_selection import StratifiedKFold, train_test_split, RandomizedSearchCV, GridSearchCV\n",
    "from sklearn.preprocessing import MultiLabelBinarizer, StandardScaler, MinMaxScaler, OneHotEncoder, LabelEncoder\n",
    "from sklearn.model_selection import train_test_split\n",
    "from sklearn.metrics import confusion_matrix, classification_report\n",
    "\n",
    "from imblearn.over_sampling import SMOTE, SMOTENC, ADASYN, BorderlineSMOTE\n",
    "from imblearn.under_sampling import RandomUnderSampler, TomekLinks\n",
    "from imblearn.combine import SMOTETomek\n",
    "from imblearn.pipeline import Pipeline as imb_pipeline\n",
    "from sklearn.pipeline import Pipeline as sk_pipeline\n",
    "from sklearn.pipeline import FeatureUnion\n",
    "\n",
    "RANDOM_STATE = 42\n",
    "pd.options.display.html.table_schema=True\n",
    "pd.options.display.max_colwidth = 100\n",
    "pd.options.display.max_rows = None"
   ]
  },
  {
   "cell_type": "code",
   "execution_count": 2,
   "metadata": {},
   "outputs": [],
   "source": [
    "# read in the json files\n",
    "portfolio = pd.read_json('data/portfolio.json', orient='records', lines=True)\n",
    "profile = pd.read_json('data/profile.json', orient='records', lines=True)\n",
    "transcript = pd.read_json('data/transcript.json', orient='records', lines=True)"
   ]
  },
  {
   "cell_type": "markdown",
   "metadata": {},
   "source": [
    "## User Defined Functions"
   ]
  },
  {
   "cell_type": "code",
   "execution_count": 3,
   "metadata": {},
   "outputs": [],
   "source": [
    "def print_line(title='Default Title'):\n",
    "    ''' Function to format titles nicely '''\n",
    "    print(50 * '*' + '\\n\\t\\t' + title + '\\n' + 50 * '*')\n",
    "    \n",
    "    return\n",
    "\n",
    "\n",
    "def get_offer_id(x):\n",
    "    '''Get offer_id from value column either by indexing on 'offer_id' or 'offer id' '''\n",
    "    try :\n",
    "        return x['offer id']\n",
    "    except:\n",
    "        return x['offer_id']\n",
    "    \n",
    "    \n",
    "def plot_conf_mat(y_test, y_pred):\n",
    "    '''Plots a confusion matrix using Seaborn's heatmap()'''\n",
    "    fig, ax = plt.subplots(figsize=(3, 3))\n",
    "    ax = sns.heatmap(confusion_matrix(y_test, y_pred),\n",
    "    annot=True, # Annotate the boxes\n",
    "    fmt='g',\n",
    "    cbar=False)\n",
    "    plt.xlabel(\"true label\")\n",
    "    plt.ylabel(\"predicted label\")\n",
    "    "
   ]
  },
  {
   "cell_type": "markdown",
   "metadata": {},
   "source": [
    "---\n",
    "<a id='section2'><h1> 2. Analysis </h1></a>\n",
    "\n",
    "---"
   ]
  },
  {
   "cell_type": "markdown",
   "metadata": {},
   "source": [
    "## Data Cleaning/Pre-processing & Data Visualisations"
   ]
  },
  {
   "cell_type": "markdown",
   "metadata": {},
   "source": [
    "## 1. Profile Data"
   ]
  },
  {
   "cell_type": "code",
   "execution_count": 4,
   "metadata": {},
   "outputs": [
    {
     "name": "stdout",
     "output_type": "stream",
     "text": [
      "**************************************************\n",
      "\t\tShape\n",
      "**************************************************\n",
      "(17000, 5)\n",
      "**************************************************\n",
      "\t\tDtypes\n",
      "**************************************************\n",
      "gender               object\n",
      "age                   int64\n",
      "id                   object\n",
      "became_member_on      int64\n",
      "income              float64\n",
      "dtype: object\n",
      "**************************************************\n",
      "\t\tDuplicate IDs\n",
      "**************************************************\n",
      "False\n",
      "**************************************************\n",
      "\t\t% of Nulls\n",
      "**************************************************\n",
      "gender              0.127941\n",
      "age                 0.000000\n",
      "id                  0.000000\n",
      "became_member_on    0.000000\n",
      "income              0.127941\n",
      "dtype: float64\n",
      "**************************************************\n",
      "\t\tMean vs Median Income\n",
      "**************************************************\n",
      "Mean Income:\t 65404.9915682968\n",
      "Median Income:\t 64000.0\n"
     ]
    },
    {
     "data": {
      "application/vnd.dataresource+json": {
       "data": [
        {
         "age": 118,
         "became_member_on": 20170212,
         "gender": null,
         "id": "68be06ca386d4c31939f3a4f0e3dd783",
         "income": null,
         "index": 0
        },
        {
         "age": 55,
         "became_member_on": 20170715,
         "gender": "F",
         "id": "0610b486422d4921ae7d2bf64640c50b",
         "income": 112000,
         "index": 1
        },
        {
         "age": 118,
         "became_member_on": 20180712,
         "gender": null,
         "id": "38fe809add3b4fcf9315a9694bb96ff5",
         "income": null,
         "index": 2
        },
        {
         "age": 75,
         "became_member_on": 20170509,
         "gender": "F",
         "id": "78afa995795e4d85b5d9ceeca43f5fef",
         "income": 100000,
         "index": 3
        },
        {
         "age": 118,
         "became_member_on": 20170804,
         "gender": null,
         "id": "a03223e636434f42ac4c3df47e8bac43",
         "income": null,
         "index": 4
        }
       ],
       "schema": {
        "fields": [
         {
          "name": "index",
          "type": "integer"
         },
         {
          "name": "gender",
          "type": "string"
         },
         {
          "name": "age",
          "type": "integer"
         },
         {
          "name": "id",
          "type": "string"
         },
         {
          "name": "became_member_on",
          "type": "integer"
         },
         {
          "name": "income",
          "type": "number"
         }
        ],
        "pandas_version": "0.20.0",
        "primaryKey": [
         "index"
        ]
       }
      },
      "text/html": [
       "<div>\n",
       "<style scoped>\n",
       "    .dataframe tbody tr th:only-of-type {\n",
       "        vertical-align: middle;\n",
       "    }\n",
       "\n",
       "    .dataframe tbody tr th {\n",
       "        vertical-align: top;\n",
       "    }\n",
       "\n",
       "    .dataframe thead th {\n",
       "        text-align: right;\n",
       "    }\n",
       "</style>\n",
       "<table border=\"1\" class=\"dataframe\">\n",
       "  <thead>\n",
       "    <tr style=\"text-align: right;\">\n",
       "      <th></th>\n",
       "      <th>gender</th>\n",
       "      <th>age</th>\n",
       "      <th>id</th>\n",
       "      <th>became_member_on</th>\n",
       "      <th>income</th>\n",
       "    </tr>\n",
       "  </thead>\n",
       "  <tbody>\n",
       "    <tr>\n",
       "      <th>0</th>\n",
       "      <td>None</td>\n",
       "      <td>118</td>\n",
       "      <td>68be06ca386d4c31939f3a4f0e3dd783</td>\n",
       "      <td>20170212</td>\n",
       "      <td>NaN</td>\n",
       "    </tr>\n",
       "    <tr>\n",
       "      <th>1</th>\n",
       "      <td>F</td>\n",
       "      <td>55</td>\n",
       "      <td>0610b486422d4921ae7d2bf64640c50b</td>\n",
       "      <td>20170715</td>\n",
       "      <td>112000.0</td>\n",
       "    </tr>\n",
       "    <tr>\n",
       "      <th>2</th>\n",
       "      <td>None</td>\n",
       "      <td>118</td>\n",
       "      <td>38fe809add3b4fcf9315a9694bb96ff5</td>\n",
       "      <td>20180712</td>\n",
       "      <td>NaN</td>\n",
       "    </tr>\n",
       "    <tr>\n",
       "      <th>3</th>\n",
       "      <td>F</td>\n",
       "      <td>75</td>\n",
       "      <td>78afa995795e4d85b5d9ceeca43f5fef</td>\n",
       "      <td>20170509</td>\n",
       "      <td>100000.0</td>\n",
       "    </tr>\n",
       "    <tr>\n",
       "      <th>4</th>\n",
       "      <td>None</td>\n",
       "      <td>118</td>\n",
       "      <td>a03223e636434f42ac4c3df47e8bac43</td>\n",
       "      <td>20170804</td>\n",
       "      <td>NaN</td>\n",
       "    </tr>\n",
       "  </tbody>\n",
       "</table>\n",
       "</div>"
      ],
      "text/plain": [
       "  gender  age                                id  became_member_on    income\n",
       "0   None  118  68be06ca386d4c31939f3a4f0e3dd783          20170212       NaN\n",
       "1      F   55  0610b486422d4921ae7d2bf64640c50b          20170715  112000.0\n",
       "2   None  118  38fe809add3b4fcf9315a9694bb96ff5          20180712       NaN\n",
       "3      F   75  78afa995795e4d85b5d9ceeca43f5fef          20170509  100000.0\n",
       "4   None  118  a03223e636434f42ac4c3df47e8bac43          20170804       NaN"
      ]
     },
     "execution_count": 4,
     "metadata": {},
     "output_type": "execute_result"
    }
   ],
   "source": [
    "print_line('Shape')\n",
    "print(profile.shape)\n",
    "print_line('Dtypes')\n",
    "print(profile.dtypes)\n",
    "print_line('Duplicate IDs')\n",
    "print(profile.id.duplicated().any())\n",
    "print_line('% of Nulls')\n",
    "print(profile.isnull().mean())\n",
    "print_line('Mean vs Median Income')\n",
    "print('Mean Income:\\t', profile.income.mean())\n",
    "print('Median Income:\\t', profile.income.median())\n",
    "profile.head()"
   ]
  },
  {
   "cell_type": "code",
   "execution_count": 5,
   "metadata": {
    "scrolled": true
   },
   "outputs": [],
   "source": [
    "# convert int to datetime\n",
    "profile['became_member_on'] = pd.to_datetime(profile['became_member_on'], format='%Y%m%d')\n",
    "\n",
    "# calculate customer tenure\n",
    "# latest membership date is 26th of July 2018 so calculate customer tenure as of end of July 2018\n",
    "as_of_date = datetime(2018,7,31)\n",
    "profile['tenure_in_months'] = profile['became_member_on'].apply(lambda x: (as_of_date.year - x.year) * 12 \\\n",
    "                                                                + (as_of_date.month - x.month)).astype(int)\n",
    "# extract year from membership date\n",
    "profile['membership_year'] = pd.DatetimeIndex(profile['became_member_on']).year\n",
    "\n",
    "# fill NAs in gender with U(unknown) \n",
    "# impute income with median and create indicator of missing income\n",
    "profile['gender'].fillna('U', inplace=True)\n",
    "profile['missing_income'] = profile['income'].isnull().astype(int)\n",
    "profile['income'].fillna(profile['income'].median(), inplace=True)\n",
    "profile['income'] = profile['income'].astype(int)\n",
    "\n",
    "# bin age groups\n",
    "age_bins = [17,24,34,44,54,64,74,84,101,118]\n",
    "age_labels = ['18-24', '25-34', '35-44', '45-54', '55-64', '65-74', '75-84', '85-101', 'Default Age']\n",
    "profile['age_group'] = pd.cut(profile['age'], bins=age_bins, labels=age_labels)\n",
    "\n",
    "# bin incomes\n",
    "income_bins = [29999,60000,90000,120000]\n",
    "income_labels = ['below average', 'average', 'above average']\n",
    "profile['income_group'] = pd.cut(profile['income'], bins=income_bins, labels=income_labels)"
   ]
  },
  {
   "cell_type": "code",
   "execution_count": 6,
   "metadata": {},
   "outputs": [
    {
     "name": "stdout",
     "output_type": "stream",
     "text": [
      "**************************************************\n",
      "\t\tValue Counts for Gender\n",
      "**************************************************\n",
      "M    8484\n",
      "F    6129\n",
      "U    2175\n",
      "O     212\n",
      "Name: gender, dtype: int64\n",
      "**************************************************\n",
      "\t\tUnique Ages\n",
      "**************************************************\n",
      "[18, 19, 20, 21, 22, 23, 24, 25, 26, 27, 28, 29, 30, 31, 32, 33, 34, 35, 36, 37, 38, 39, 40, 41, 42, 43, 44, 45, 46, 47, 48, 49, 50, 51, 52, 53, 54, 55, 56, 57, 58, 59, 60, 61, 62, 63, 64, 65, 66, 67, 68, 69, 70, 71, 72, 73, 74, 75, 76, 77, 78, 79, 80, 81, 82, 83, 84, 85, 86, 87, 88, 89, 90, 91, 92, 93, 94, 95, 96, 97, 98, 99, 100, 101, 118]\n",
      "**************************************************\n",
      "\t\tAge Group Distribution\n",
      "**************************************************\n",
      "18-24           876\n",
      "25-34          1380\n",
      "35-44          1869\n",
      "45-54          3013\n",
      "55-64          3421\n",
      "65-74          2457\n",
      "75-84          1231\n",
      "85-101          578\n",
      "Default Age    2175\n",
      "Name: age_group, dtype: int64\n",
      "**************************************************\n",
      "\t\tIncome Group Distribution\n",
      "**************************************************\n",
      "below average    6693\n",
      "average          8113\n",
      "above average    2194\n",
      "Name: income_group, dtype: int64\n",
      "**************************************************\n",
      "\t\tSummary Stats (Numbers)\n",
      "**************************************************\n",
      "                age         income  tenure_in_months  membership_year  \\\n",
      "count  17000.000000   17000.000000      17000.000000     17000.000000   \n",
      "mean      62.531412   65225.235294         16.696471      2016.635000   \n",
      "std       26.738580   20174.747749         13.515831         1.177624   \n",
      "min       18.000000   30000.000000          0.000000      2013.000000   \n",
      "25%       45.000000   51000.000000          7.000000      2016.000000   \n",
      "50%       58.000000   64000.000000         11.000000      2017.000000   \n",
      "75%       73.000000   76000.000000         26.000000      2017.000000   \n",
      "max      118.000000  120000.000000         60.000000      2018.000000   \n",
      "\n",
      "       missing_income  \n",
      "count    17000.000000  \n",
      "mean         0.127941  \n",
      "std          0.334034  \n",
      "min          0.000000  \n",
      "25%          0.000000  \n",
      "50%          0.000000  \n",
      "75%          0.000000  \n",
      "max          1.000000  \n",
      "**************************************************\n",
      "\t\tSummary Stats (Objects)\n",
      "**************************************************\n",
      "       gender                                id\n",
      "count   17000                             17000\n",
      "unique      4                             17000\n",
      "top         M  d1f946881b2f44f781a90fab28ae3b5c\n",
      "freq     8484                                 1\n"
     ]
    },
    {
     "data": {
      "application/vnd.dataresource+json": {
       "data": [
        {
         "age": 118,
         "age_group": "Default Age",
         "became_member_on": "2017-02-12T00:00:00.000Z",
         "gender": "U",
         "id": "68be06ca386d4c31939f3a4f0e3dd783",
         "income": 64000,
         "income_group": "average",
         "index": 0,
         "membership_year": 2017,
         "missing_income": 1,
         "tenure_in_months": 17
        },
        {
         "age": 55,
         "age_group": "55-64",
         "became_member_on": "2017-07-15T00:00:00.000Z",
         "gender": "F",
         "id": "0610b486422d4921ae7d2bf64640c50b",
         "income": 112000,
         "income_group": "above average",
         "index": 1,
         "membership_year": 2017,
         "missing_income": 0,
         "tenure_in_months": 12
        },
        {
         "age": 118,
         "age_group": "Default Age",
         "became_member_on": "2018-07-12T00:00:00.000Z",
         "gender": "U",
         "id": "38fe809add3b4fcf9315a9694bb96ff5",
         "income": 64000,
         "income_group": "average",
         "index": 2,
         "membership_year": 2018,
         "missing_income": 1,
         "tenure_in_months": 0
        },
        {
         "age": 75,
         "age_group": "75-84",
         "became_member_on": "2017-05-09T00:00:00.000Z",
         "gender": "F",
         "id": "78afa995795e4d85b5d9ceeca43f5fef",
         "income": 100000,
         "income_group": "above average",
         "index": 3,
         "membership_year": 2017,
         "missing_income": 0,
         "tenure_in_months": 14
        },
        {
         "age": 118,
         "age_group": "Default Age",
         "became_member_on": "2017-08-04T00:00:00.000Z",
         "gender": "U",
         "id": "a03223e636434f42ac4c3df47e8bac43",
         "income": 64000,
         "income_group": "average",
         "index": 4,
         "membership_year": 2017,
         "missing_income": 1,
         "tenure_in_months": 11
        }
       ],
       "schema": {
        "fields": [
         {
          "name": "index",
          "type": "integer"
         },
         {
          "name": "gender",
          "type": "string"
         },
         {
          "name": "age",
          "type": "integer"
         },
         {
          "name": "id",
          "type": "string"
         },
         {
          "name": "became_member_on",
          "type": "datetime"
         },
         {
          "name": "income",
          "type": "integer"
         },
         {
          "name": "tenure_in_months",
          "type": "integer"
         },
         {
          "name": "membership_year",
          "type": "integer"
         },
         {
          "name": "missing_income",
          "type": "integer"
         },
         {
          "constraints": {
           "enum": [
            "18-24",
            "25-34",
            "35-44",
            "45-54",
            "55-64",
            "65-74",
            "75-84",
            "85-101",
            "Default Age"
           ]
          },
          "name": "age_group",
          "ordered": true,
          "type": "any"
         },
         {
          "constraints": {
           "enum": [
            "below average",
            "average",
            "above average"
           ]
          },
          "name": "income_group",
          "ordered": true,
          "type": "any"
         }
        ],
        "pandas_version": "0.20.0",
        "primaryKey": [
         "index"
        ]
       }
      },
      "text/html": [
       "<div>\n",
       "<style scoped>\n",
       "    .dataframe tbody tr th:only-of-type {\n",
       "        vertical-align: middle;\n",
       "    }\n",
       "\n",
       "    .dataframe tbody tr th {\n",
       "        vertical-align: top;\n",
       "    }\n",
       "\n",
       "    .dataframe thead th {\n",
       "        text-align: right;\n",
       "    }\n",
       "</style>\n",
       "<table border=\"1\" class=\"dataframe\">\n",
       "  <thead>\n",
       "    <tr style=\"text-align: right;\">\n",
       "      <th></th>\n",
       "      <th>gender</th>\n",
       "      <th>age</th>\n",
       "      <th>id</th>\n",
       "      <th>became_member_on</th>\n",
       "      <th>income</th>\n",
       "      <th>tenure_in_months</th>\n",
       "      <th>membership_year</th>\n",
       "      <th>missing_income</th>\n",
       "      <th>age_group</th>\n",
       "      <th>income_group</th>\n",
       "    </tr>\n",
       "  </thead>\n",
       "  <tbody>\n",
       "    <tr>\n",
       "      <th>0</th>\n",
       "      <td>U</td>\n",
       "      <td>118</td>\n",
       "      <td>68be06ca386d4c31939f3a4f0e3dd783</td>\n",
       "      <td>2017-02-12</td>\n",
       "      <td>64000</td>\n",
       "      <td>17</td>\n",
       "      <td>2017</td>\n",
       "      <td>1</td>\n",
       "      <td>Default Age</td>\n",
       "      <td>average</td>\n",
       "    </tr>\n",
       "    <tr>\n",
       "      <th>1</th>\n",
       "      <td>F</td>\n",
       "      <td>55</td>\n",
       "      <td>0610b486422d4921ae7d2bf64640c50b</td>\n",
       "      <td>2017-07-15</td>\n",
       "      <td>112000</td>\n",
       "      <td>12</td>\n",
       "      <td>2017</td>\n",
       "      <td>0</td>\n",
       "      <td>55-64</td>\n",
       "      <td>above average</td>\n",
       "    </tr>\n",
       "    <tr>\n",
       "      <th>2</th>\n",
       "      <td>U</td>\n",
       "      <td>118</td>\n",
       "      <td>38fe809add3b4fcf9315a9694bb96ff5</td>\n",
       "      <td>2018-07-12</td>\n",
       "      <td>64000</td>\n",
       "      <td>0</td>\n",
       "      <td>2018</td>\n",
       "      <td>1</td>\n",
       "      <td>Default Age</td>\n",
       "      <td>average</td>\n",
       "    </tr>\n",
       "    <tr>\n",
       "      <th>3</th>\n",
       "      <td>F</td>\n",
       "      <td>75</td>\n",
       "      <td>78afa995795e4d85b5d9ceeca43f5fef</td>\n",
       "      <td>2017-05-09</td>\n",
       "      <td>100000</td>\n",
       "      <td>14</td>\n",
       "      <td>2017</td>\n",
       "      <td>0</td>\n",
       "      <td>75-84</td>\n",
       "      <td>above average</td>\n",
       "    </tr>\n",
       "    <tr>\n",
       "      <th>4</th>\n",
       "      <td>U</td>\n",
       "      <td>118</td>\n",
       "      <td>a03223e636434f42ac4c3df47e8bac43</td>\n",
       "      <td>2017-08-04</td>\n",
       "      <td>64000</td>\n",
       "      <td>11</td>\n",
       "      <td>2017</td>\n",
       "      <td>1</td>\n",
       "      <td>Default Age</td>\n",
       "      <td>average</td>\n",
       "    </tr>\n",
       "  </tbody>\n",
       "</table>\n",
       "</div>"
      ],
      "text/plain": [
       "  gender  age                                id became_member_on  income  \\\n",
       "0      U  118  68be06ca386d4c31939f3a4f0e3dd783       2017-02-12   64000   \n",
       "1      F   55  0610b486422d4921ae7d2bf64640c50b       2017-07-15  112000   \n",
       "2      U  118  38fe809add3b4fcf9315a9694bb96ff5       2018-07-12   64000   \n",
       "3      F   75  78afa995795e4d85b5d9ceeca43f5fef       2017-05-09  100000   \n",
       "4      U  118  a03223e636434f42ac4c3df47e8bac43       2017-08-04   64000   \n",
       "\n",
       "   tenure_in_months  membership_year  missing_income    age_group  \\\n",
       "0                17             2017               1  Default Age   \n",
       "1                12             2017               0        55-64   \n",
       "2                 0             2018               1  Default Age   \n",
       "3                14             2017               0        75-84   \n",
       "4                11             2017               1  Default Age   \n",
       "\n",
       "    income_group  \n",
       "0        average  \n",
       "1  above average  \n",
       "2        average  \n",
       "3  above average  \n",
       "4        average  "
      ]
     },
     "execution_count": 6,
     "metadata": {},
     "output_type": "execute_result"
    }
   ],
   "source": [
    "print_line('Value Counts for Gender')\n",
    "print(profile.gender.value_counts())\n",
    "print_line('Unique Ages')\n",
    "print(sorted(profile.age.unique()))\n",
    "print_line('Age Group Distribution')\n",
    "print(profile.age_group.value_counts().sort_index())\n",
    "print_line('Income Group Distribution')\n",
    "print(profile.income_group.value_counts().sort_index())\n",
    "print_line('Summary Stats (Numbers)')\n",
    "print(profile.describe())\n",
    "print_line('Summary Stats (Objects)')\n",
    "print(profile.describe(include = 'object'))\n",
    "profile.head()"
   ]
  },
  {
   "cell_type": "markdown",
   "metadata": {},
   "source": [
    "### Q1. What was the age distribution of Starbucks customers in the dataset?\n",
    "Distribution of Customer Age Groups (Bucketed)"
   ]
  },
  {
   "cell_type": "code",
   "execution_count": 7,
   "metadata": {},
   "outputs": [
    {
     "data": {
      "image/png": "[encoded data removed]",
      "text/plain": [
       "<Figure size 1080x576 with 1 Axes>"
      ]
     },
     "metadata": {
      "needs_background": "light"
     },
     "output_type": "display_data"
    }
   ],
   "source": [
    "fig, ax = plt.subplots(figsize=(15,8))\n",
    "\n",
    "profile.age_group.value_counts().sort_index().plot(kind='bar', ax=ax, color=[\"#f72585\"])\n",
    "ax.set_xticklabels(ax.get_xticklabels(), rotation=0)\n",
    "ax.set_title('Age Distribution Bucketed')\n",
    "ax.set_ylabel('Count of Customers')\n",
    "ax.set_xlabel('Age Group');\n"
   ]
  },
  {
   "cell_type": "markdown",
   "metadata": {},
   "source": [
    "The majority of Starbucks customers in the dataset were in the 55-64 year age group. Overall, customers aged 45-75 accounted for ~52% of the dataset."
   ]
  },
  {
   "cell_type": "markdown",
   "metadata": {},
   "source": [
    "### Q2. What was the distribution of customer tenure in the dataset?\n",
    "\n",
    "Distribution of Customer Tenure"
   ]
  },
  {
   "cell_type": "code",
   "execution_count": 8,
   "metadata": {},
   "outputs": [
    {
     "data": {
      "image/png": "[encoded data removed]",
      "text/plain": [
       "<Figure size 1080x576 with 1 Axes>"
      ]
     },
     "metadata": {
      "needs_background": "light"
     },
     "output_type": "display_data"
    }
   ],
   "source": [
    "fig, ax = plt.subplots(figsize=(15,8))\n",
    "\n",
    "profile.tenure_in_months.value_counts().sort_index().plot(kind='bar', ax=ax, color=['#219ebc'])\n",
    "ax.set_xticklabels(ax.get_xticklabels(), rotation=0)\n",
    "ax.set_title('Tenure Distribution')\n",
    "ax.set_ylabel('Count of Customers')\n",
    "ax.set_xlabel('Tenure in Months');\n"
   ]
  },
  {
   "cell_type": "markdown",
   "metadata": {},
   "source": [
    "The majority of customers had a tenure of between 6-11 months, so a lot of these customers were relatively new to the Starbucks membership programme. "
   ]
  },
  {
   "cell_type": "markdown",
   "metadata": {},
   "source": [
    "### Q3. What year saw the most new memberships and what month of the year saw the most memberships?\n",
    "\n",
    "Distribution of Memberships by Year and by Months of the Year"
   ]
  },
  {
   "cell_type": "code",
   "execution_count": 9,
   "metadata": {},
   "outputs": [
    {
     "data": {
      "image/png": "[encoded data removed]",
      "text/plain": [
       "<Figure size 1080x360 with 2 Axes>"
      ]
     },
     "metadata": {
      "needs_background": "light"
     },
     "output_type": "display_data"
    }
   ],
   "source": [
    "membership_years = pd.DatetimeIndex(profile['became_member_on']).year\n",
    "membership_months = pd.DatetimeIndex(profile['became_member_on']).month\n",
    "\n",
    "fig, (ax1, ax2) = plt.subplots(1,2, figsize=(15,5))\n",
    "\n",
    "membership_years.value_counts().sort_index().plot(kind='bar', ax=ax1, color=['#70e000'])\n",
    "ax1.set_xticklabels(ax1.get_xticklabels(), rotation=0)\n",
    "ax1.set_title('Membership Years')\n",
    "ax1.set_ylabel('Count')\n",
    "ax1.set_xlabel('Year');\n",
    "\n",
    "membership_months.value_counts().sort_index().plot(kind='bar', ax=ax2, color=['#fb8500'])\n",
    "ax2.set_xticklabels(ax2.get_xticklabels(), rotation=0)\n",
    "ax2.set_title('Membership Months')\n",
    "ax2.set_ylabel('Count')\n",
    "ax2.set_xlabel('Month');"
   ]
  },
  {
   "cell_type": "markdown",
   "metadata": {},
   "source": [
    "2017 saw a relatively large spike in memberships compared to 2016 (up ~50%). There was possibly a campaign to drive memberships that year. Overall, memberships are steady across each month over the years. However, August is the most popular month for new memberships overall."
   ]
  },
  {
   "cell_type": "markdown",
   "metadata": {},
   "source": [
    "### Q4. What was the gender distribution of customers in the Starbucks dataset? \n",
    "\n",
    "Gender Distribution Across Customer Profiles"
   ]
  },
  {
   "cell_type": "code",
   "execution_count": 10,
   "metadata": {},
   "outputs": [
    {
     "data": {
      "image/png": "[encoded data removed]",
      "text/plain": [
       "<Figure size 1080x576 with 1 Axes>"
      ]
     },
     "metadata": {
      "needs_background": "light"
     },
     "output_type": "display_data"
    }
   ],
   "source": [
    "fig, ax = plt.subplots(figsize=(15,8))\n",
    "\n",
    "profile.gender.value_counts().plot(kind='bar', ax=ax, color=[\"#219ebc\",\"#fb8500\",\"#70e000\",\"#f72585\"])\n",
    "ax.set_xticklabels(ax.get_xticklabels(), rotation=0)\n",
    "ax.set_title('Gender Distribution of Customer Profiles')\n",
    "ax.set_ylabel('Count of Customers')\n",
    "ax.set_xlabel('Gender');\n"
   ]
  },
  {
   "cell_type": "markdown",
   "metadata": {},
   "source": [
    "~50% of customers are male, ~36% are female, ~1.25% are 'other' and ~12.75% are unknown. "
   ]
  },
  {
   "cell_type": "markdown",
   "metadata": {},
   "source": [
    "### Q5. What was the income distribution by gender?\n",
    "\n",
    "Income Distribution by Gender"
   ]
  },
  {
   "cell_type": "code",
   "execution_count": 11,
   "metadata": {},
   "outputs": [
    {
     "name": "stderr",
     "output_type": "stream",
     "text": [
      "C:\\Users\\SNicConmara\\Anaconda3\\lib\\site-packages\\seaborn\\_decorators.py:36: FutureWarning: Pass the following variables as keyword args: x, y. From version 0.12, the only valid positional argument will be `data`, and passing other arguments without an explicit keyword will result in an error or misinterpretation.\n",
      "  warnings.warn(\n"
     ]
    },
    {
     "data": {
      "image/png": "[encoded data removed]",
      "text/plain": [
       "<Figure size 1080x576 with 1 Axes>"
      ]
     },
     "metadata": {
      "needs_background": "light"
     },
     "output_type": "display_data"
    }
   ],
   "source": [
    "fig, ax = plt.subplots(figsize=(15,8))\n",
    "\n",
    "colors = {\"M\": \"#219ebc\", \"F\": \"#fb8500\", \"O\":\"#70e000\", \"U\":\"#f72585\"}\n",
    "sns.boxplot('gender', 'income', data=profile, ax=ax, order=['M', 'F', 'O', 'U'], palette=colors);"
   ]
  },
  {
   "cell_type": "code",
   "execution_count": 12,
   "metadata": {},
   "outputs": [
    {
     "data": {
      "application/vnd.dataresource+json": {
       "data": [
        {
         "25%": 54000,
         "50%": 71000,
         "75%": 88000,
         "count": 6129,
         "gender": "F",
         "max": 120000,
         "mean": 71306.4121390113,
         "min": 30000,
         "std": 22338.3537728827
        },
        {
         "25%": 45000,
         "50%": 59000,
         "75%": 73000,
         "count": 8484,
         "gender": "M",
         "max": 120000,
         "mean": 61194.6016030174,
         "min": 30000,
         "std": 20069.5176145528
        },
        {
         "25%": 51000,
         "50%": 62000,
         "75%": 79250,
         "count": 212,
         "gender": "O",
         "max": 100000,
         "mean": 63287.7358490566,
         "min": 30000,
         "std": 18938.5947262403
        },
        {
         "25%": 64000,
         "50%": 64000,
         "75%": 64000,
         "count": 2175,
         "gender": "U",
         "max": 64000,
         "mean": 64000,
         "min": 64000,
         "std": 0
        }
       ],
       "schema": {
        "fields": [
         {
          "name": "gender",
          "type": "string"
         },
         {
          "name": "count",
          "type": "number"
         },
         {
          "name": "mean",
          "type": "number"
         },
         {
          "name": "std",
          "type": "number"
         },
         {
          "name": "min",
          "type": "number"
         },
         {
          "name": "25%",
          "type": "number"
         },
         {
          "name": "50%",
          "type": "number"
         },
         {
          "name": "75%",
          "type": "number"
         },
         {
          "name": "max",
          "type": "number"
         }
        ],
        "pandas_version": "0.20.0",
        "primaryKey": [
         "gender"
        ]
       }
      },
      "text/html": [
       "<div>\n",
       "<style scoped>\n",
       "    .dataframe tbody tr th:only-of-type {\n",
       "        vertical-align: middle;\n",
       "    }\n",
       "\n",
       "    .dataframe tbody tr th {\n",
       "        vertical-align: top;\n",
       "    }\n",
       "\n",
       "    .dataframe thead th {\n",
       "        text-align: right;\n",
       "    }\n",
       "</style>\n",
       "<table border=\"1\" class=\"dataframe\">\n",
       "  <thead>\n",
       "    <tr style=\"text-align: right;\">\n",
       "      <th></th>\n",
       "      <th>count</th>\n",
       "      <th>mean</th>\n",
       "      <th>std</th>\n",
       "      <th>min</th>\n",
       "      <th>25%</th>\n",
       "      <th>50%</th>\n",
       "      <th>75%</th>\n",
       "      <th>max</th>\n",
       "    </tr>\n",
       "    <tr>\n",
       "      <th>gender</th>\n",
       "      <th></th>\n",
       "      <th></th>\n",
       "      <th></th>\n",
       "      <th></th>\n",
       "      <th></th>\n",
       "      <th></th>\n",
       "      <th></th>\n",
       "      <th></th>\n",
       "    </tr>\n",
       "  </thead>\n",
       "  <tbody>\n",
       "    <tr>\n",
       "      <th>F</th>\n",
       "      <td>6129.0</td>\n",
       "      <td>71306.412139</td>\n",
       "      <td>22338.353773</td>\n",
       "      <td>30000.0</td>\n",
       "      <td>54000.0</td>\n",
       "      <td>71000.0</td>\n",
       "      <td>88000.0</td>\n",
       "      <td>120000.0</td>\n",
       "    </tr>\n",
       "    <tr>\n",
       "      <th>M</th>\n",
       "      <td>8484.0</td>\n",
       "      <td>61194.601603</td>\n",
       "      <td>20069.517615</td>\n",
       "      <td>30000.0</td>\n",
       "      <td>45000.0</td>\n",
       "      <td>59000.0</td>\n",
       "      <td>73000.0</td>\n",
       "      <td>120000.0</td>\n",
       "    </tr>\n",
       "    <tr>\n",
       "      <th>O</th>\n",
       "      <td>212.0</td>\n",
       "      <td>63287.735849</td>\n",
       "      <td>18938.594726</td>\n",
       "      <td>30000.0</td>\n",
       "      <td>51000.0</td>\n",
       "      <td>62000.0</td>\n",
       "      <td>79250.0</td>\n",
       "      <td>100000.0</td>\n",
       "    </tr>\n",
       "    <tr>\n",
       "      <th>U</th>\n",
       "      <td>2175.0</td>\n",
       "      <td>64000.000000</td>\n",
       "      <td>0.000000</td>\n",
       "      <td>64000.0</td>\n",
       "      <td>64000.0</td>\n",
       "      <td>64000.0</td>\n",
       "      <td>64000.0</td>\n",
       "      <td>64000.0</td>\n",
       "    </tr>\n",
       "  </tbody>\n",
       "</table>\n",
       "</div>"
      ],
      "text/plain": [
       "         count          mean           std      min      25%      50%  \\\n",
       "gender                                                                  \n",
       "F       6129.0  71306.412139  22338.353773  30000.0  54000.0  71000.0   \n",
       "M       8484.0  61194.601603  20069.517615  30000.0  45000.0  59000.0   \n",
       "O        212.0  63287.735849  18938.594726  30000.0  51000.0  62000.0   \n",
       "U       2175.0  64000.000000      0.000000  64000.0  64000.0  64000.0   \n",
       "\n",
       "            75%       max  \n",
       "gender                     \n",
       "F       88000.0  120000.0  \n",
       "M       73000.0  120000.0  \n",
       "O       79250.0  100000.0  \n",
       "U       64000.0   64000.0  "
      ]
     },
     "execution_count": 12,
     "metadata": {},
     "output_type": "execute_result"
    }
   ],
   "source": [
    "profile.groupby('gender').describe()['income']"
   ]
  },
  {
   "cell_type": "code",
   "execution_count": 13,
   "metadata": {},
   "outputs": [
    {
     "data": {
      "image/png": "[encoded data removed]",
      "text/plain": [
       "<Figure size 1080x576 with 1 Axes>"
      ]
     },
     "metadata": {
      "needs_background": "light"
     },
     "output_type": "display_data"
    }
   ],
   "source": [
    "fig, ax = plt.subplots(figsize=(15,8))\n",
    "\n",
    "ax.hist(profile.query(\"gender == 'M'\")['income'], alpha=0.75, color='#219ebc', label='Male')\n",
    "ax.hist(profile.query(\"gender == 'F'\")['income'], alpha=0.75, color='#fb8500', label='Female')\n",
    "ax.hist(profile.query(\"gender == 'O'\")['income'], alpha=1, color='#70e000', label='Other')\n",
    "ax.hist(profile.query(\"gender == 'U'\")['income'], alpha=1, color='#f72585', label='Unknown')\n",
    "ax.set_xlabel('Income($)')\n",
    "ax.set_ylabel('Count of Customers')\n",
    "ax.set_title('Income Distribution')\n",
    "ax.legend();"
   ]
  },
  {
   "cell_type": "markdown",
   "metadata": {},
   "source": [
    "The income distribution by gender is quite interesting. We can see from the plots above that the average income of Starbucks customers is higher for females than for males. The distribution of female incomes is also wider and less-skewed than the male income distribution. Both male and female incomes range from 30k to 120k."
   ]
  },
  {
   "cell_type": "markdown",
   "metadata": {},
   "source": [
    "### Q6. What was the income distribution by age group?\n",
    "\n",
    "Income Distribution by Age Group"
   ]
  },
  {
   "cell_type": "code",
   "execution_count": 14,
   "metadata": {
    "scrolled": false
   },
   "outputs": [
    {
     "name": "stderr",
     "output_type": "stream",
     "text": [
      "C:\\Users\\SNicConmara\\Anaconda3\\lib\\site-packages\\seaborn\\_decorators.py:36: FutureWarning: Pass the following variables as keyword args: x, y. From version 0.12, the only valid positional argument will be `data`, and passing other arguments without an explicit keyword will result in an error or misinterpretation.\n",
      "  warnings.warn(\n"
     ]
    },
    {
     "data": {
      "image/png": "[encoded data removed]",
      "text/plain": [
       "<Figure size 1080x576 with 1 Axes>"
      ]
     },
     "metadata": {
      "needs_background": "light"
     },
     "output_type": "display_data"
    }
   ],
   "source": [
    "fig, ax = plt.subplots(figsize=(15,8))\n",
    "\n",
    "sns.boxplot('age_group', 'income', data=profile, ax=ax);"
   ]
  },
  {
   "cell_type": "markdown",
   "metadata": {},
   "source": [
    "Unsurprisingly, customers aged 18-44 have lower incomes on average than those ages 44+. This is likely due to years in a career/industry and potential career progression with age."
   ]
  },
  {
   "cell_type": "markdown",
   "metadata": {},
   "source": [
    "## 2. Transcript Data"
   ]
  },
  {
   "cell_type": "code",
   "execution_count": 15,
   "metadata": {},
   "outputs": [],
   "source": [
    "# rename person to customer_id\n",
    "transcript.rename(columns={'person':'customer_id', 'time':'time_hours'}, inplace=True)\n",
    "\n",
    "# check if there are any customer IDs which do not appear in profile df, drop if they exist\n",
    "transcript['customer_id_in_profile'] = transcript['customer_id'].isin(profile['id']).astype(int)\n",
    "transcript = transcript[transcript.customer_id_in_profile == 1]\n",
    "\n",
    "# convert time from hours to days for exploratory analysis purposes\n",
    "transcript['days_since_test_start'] = (transcript['time_hours']/24).astype(int)\n",
    "\n",
    "# extract offer id or transaction amount from value column\n",
    "transcript['offer_id'] = transcript[transcript.event.isin(['offer received', 'offer viewed', 'offer completed'])]\\\n",
    "    .value.apply(lambda x: get_offer_id(x))\n",
    "transcript['transaction_amount'] =  transcript[transcript.event.isin(['transaction'])].value.apply(lambda x: x['amount'])\n",
    "\n",
    "# drop unused columns\n",
    "transcript.drop(['customer_id_in_profile', 'value'], axis=1, inplace=True)"
   ]
  },
  {
   "cell_type": "code",
   "execution_count": 16,
   "metadata": {},
   "outputs": [
    {
     "data": {
      "text/plain": [
       "397"
      ]
     },
     "execution_count": 16,
     "metadata": {},
     "output_type": "execute_result"
    }
   ],
   "source": [
    "#397 completely identical rows - remove these from transcript dataset\n",
    "len(transcript[transcript.duplicated()])"
   ]
  },
  {
   "cell_type": "code",
   "execution_count": 17,
   "metadata": {},
   "outputs": [
    {
     "name": "stdout",
     "output_type": "stream",
     "text": [
      "**************************************************\n",
      "\t\tOld shape\n",
      "**************************************************\n",
      "(306534, 6)\n",
      "**************************************************\n",
      "\t\tDuplicate Rows Removed\n",
      "**************************************************\n",
      "397\n",
      "**************************************************\n",
      "\t\tNew shape\n",
      "**************************************************\n",
      "(306137, 6)\n"
     ]
    }
   ],
   "source": [
    "print_line('Old shape')\n",
    "print(transcript.shape)\n",
    "\n",
    "print_line('Duplicate Rows Removed')\n",
    "print(len(transcript[transcript.duplicated()]))\n",
    "transcript.drop_duplicates(inplace=True)\n",
    "\n",
    "print_line('New shape')\n",
    "print(transcript.shape)"
   ]
  },
  {
   "cell_type": "code",
   "execution_count": 18,
   "metadata": {
    "scrolled": true
   },
   "outputs": [
    {
     "name": "stdout",
     "output_type": "stream",
     "text": [
      "**************************************************\n",
      "\t\tShape\n",
      "**************************************************\n",
      "(306137, 6)\n",
      "**************************************************\n",
      "\t\tDtypes\n",
      "**************************************************\n",
      "customer_id               object\n",
      "event                     object\n",
      "time_hours                 int64\n",
      "days_since_test_start      int32\n",
      "offer_id                  object\n",
      "transaction_amount       float64\n",
      "dtype: object\n",
      "**************************************************\n",
      "\t\t# Unique customer IDs\n",
      "**************************************************\n",
      "(17000,)\n",
      "**************************************************\n",
      "\t\t# Profiles\n",
      "**************************************************\n",
      "(17000,)\n",
      "**************************************************\n",
      "\t\tTypes of Events\n",
      "**************************************************\n",
      "transaction        138953\n",
      "offer received      76277\n",
      "offer viewed        57725\n",
      "offer completed     33182\n",
      "Name: event, dtype: int64\n",
      "**************************************************\n",
      "\t\tDays Since Test Start\n",
      "**************************************************\n",
      "0     22297\n",
      "1      7199\n",
      "2      6044\n",
      "3      5239\n",
      "4      4651\n",
      "5      4071\n",
      "6      3673\n",
      "7     24032\n",
      "8      8074\n",
      "9      6811\n",
      "10     5595\n",
      "11     4935\n",
      "12     4316\n",
      "13     3877\n",
      "14    24394\n",
      "15     8347\n",
      "16     7018\n",
      "17    26622\n",
      "18     9838\n",
      "19     7878\n",
      "20     6514\n",
      "21    26223\n",
      "22     9491\n",
      "23     7736\n",
      "24    26604\n",
      "25     9960\n",
      "26     7904\n",
      "27     6592\n",
      "28     5586\n",
      "29     4616\n",
      "Name: days_since_test_start, dtype: int64\n",
      "**************************************************\n",
      "\t\t% of Nulls\n",
      "**************************************************\n",
      "customer_id              0.000000\n",
      "event                    0.000000\n",
      "time_hours               0.000000\n",
      "days_since_test_start    0.000000\n",
      "offer_id                 0.453892\n",
      "transaction_amount       0.546108\n",
      "dtype: float64\n"
     ]
    },
    {
     "data": {
      "application/vnd.dataresource+json": {
       "data": [
        {
         "customer_id": "78afa995795e4d85b5d9ceeca43f5fef",
         "days_since_test_start": 0,
         "event": "offer received",
         "index": 0,
         "offer_id": "9b98b8c7a33c4b65b9aebfe6a799e6d9",
         "time_hours": 0,
         "transaction_amount": null
        },
        {
         "customer_id": "a03223e636434f42ac4c3df47e8bac43",
         "days_since_test_start": 0,
         "event": "offer received",
         "index": 1,
         "offer_id": "0b1e1539f2cc45b7b9fa7c272da2e1d7",
         "time_hours": 0,
         "transaction_amount": null
        },
        {
         "customer_id": "e2127556f4f64592b11af22de27a7932",
         "days_since_test_start": 0,
         "event": "offer received",
         "index": 2,
         "offer_id": "2906b810c7d4411798c6938adc9daaa5",
         "time_hours": 0,
         "transaction_amount": null
        },
        {
         "customer_id": "8ec6ce2a7e7949b1bf142def7d0e0586",
         "days_since_test_start": 0,
         "event": "offer received",
         "index": 3,
         "offer_id": "fafdcd668e3743c1bb461111dcafc2a4",
         "time_hours": 0,
         "transaction_amount": null
        },
        {
         "customer_id": "68617ca6246f4fbc85e91a2a49552598",
         "days_since_test_start": 0,
         "event": "offer received",
         "index": 4,
         "offer_id": "4d5c57ea9a6940dd891ad53e9dbe8da0",
         "time_hours": 0,
         "transaction_amount": null
        }
       ],
       "schema": {
        "fields": [
         {
          "name": "index",
          "type": "integer"
         },
         {
          "name": "customer_id",
          "type": "string"
         },
         {
          "name": "event",
          "type": "string"
         },
         {
          "name": "time_hours",
          "type": "integer"
         },
         {
          "name": "days_since_test_start",
          "type": "integer"
         },
         {
          "name": "offer_id",
          "type": "string"
         },
         {
          "name": "transaction_amount",
          "type": "number"
         }
        ],
        "pandas_version": "0.20.0",
        "primaryKey": [
         "index"
        ]
       }
      },
      "text/html": [
       "<div>\n",
       "<style scoped>\n",
       "    .dataframe tbody tr th:only-of-type {\n",
       "        vertical-align: middle;\n",
       "    }\n",
       "\n",
       "    .dataframe tbody tr th {\n",
       "        vertical-align: top;\n",
       "    }\n",
       "\n",
       "    .dataframe thead th {\n",
       "        text-align: right;\n",
       "    }\n",
       "</style>\n",
       "<table border=\"1\" class=\"dataframe\">\n",
       "  <thead>\n",
       "    <tr style=\"text-align: right;\">\n",
       "      <th></th>\n",
       "      <th>customer_id</th>\n",
       "      <th>event</th>\n",
       "      <th>time_hours</th>\n",
       "      <th>days_since_test_start</th>\n",
       "      <th>offer_id</th>\n",
       "      <th>transaction_amount</th>\n",
       "    </tr>\n",
       "  </thead>\n",
       "  <tbody>\n",
       "    <tr>\n",
       "      <th>0</th>\n",
       "      <td>78afa995795e4d85b5d9ceeca43f5fef</td>\n",
       "      <td>offer received</td>\n",
       "      <td>0</td>\n",
       "      <td>0</td>\n",
       "      <td>9b98b8c7a33c4b65b9aebfe6a799e6d9</td>\n",
       "      <td>NaN</td>\n",
       "    </tr>\n",
       "    <tr>\n",
       "      <th>1</th>\n",
       "      <td>a03223e636434f42ac4c3df47e8bac43</td>\n",
       "      <td>offer received</td>\n",
       "      <td>0</td>\n",
       "      <td>0</td>\n",
       "      <td>0b1e1539f2cc45b7b9fa7c272da2e1d7</td>\n",
       "      <td>NaN</td>\n",
       "    </tr>\n",
       "    <tr>\n",
       "      <th>2</th>\n",
       "      <td>e2127556f4f64592b11af22de27a7932</td>\n",
       "      <td>offer received</td>\n",
       "      <td>0</td>\n",
       "      <td>0</td>\n",
       "      <td>2906b810c7d4411798c6938adc9daaa5</td>\n",
       "      <td>NaN</td>\n",
       "    </tr>\n",
       "    <tr>\n",
       "      <th>3</th>\n",
       "      <td>8ec6ce2a7e7949b1bf142def7d0e0586</td>\n",
       "      <td>offer received</td>\n",
       "      <td>0</td>\n",
       "      <td>0</td>\n",
       "      <td>fafdcd668e3743c1bb461111dcafc2a4</td>\n",
       "      <td>NaN</td>\n",
       "    </tr>\n",
       "    <tr>\n",
       "      <th>4</th>\n",
       "      <td>68617ca6246f4fbc85e91a2a49552598</td>\n",
       "      <td>offer received</td>\n",
       "      <td>0</td>\n",
       "      <td>0</td>\n",
       "      <td>4d5c57ea9a6940dd891ad53e9dbe8da0</td>\n",
       "      <td>NaN</td>\n",
       "    </tr>\n",
       "  </tbody>\n",
       "</table>\n",
       "</div>"
      ],
      "text/plain": [
       "                        customer_id           event  time_hours  \\\n",
       "0  78afa995795e4d85b5d9ceeca43f5fef  offer received           0   \n",
       "1  a03223e636434f42ac4c3df47e8bac43  offer received           0   \n",
       "2  e2127556f4f64592b11af22de27a7932  offer received           0   \n",
       "3  8ec6ce2a7e7949b1bf142def7d0e0586  offer received           0   \n",
       "4  68617ca6246f4fbc85e91a2a49552598  offer received           0   \n",
       "\n",
       "   days_since_test_start                          offer_id  transaction_amount  \n",
       "0                      0  9b98b8c7a33c4b65b9aebfe6a799e6d9                 NaN  \n",
       "1                      0  0b1e1539f2cc45b7b9fa7c272da2e1d7                 NaN  \n",
       "2                      0  2906b810c7d4411798c6938adc9daaa5                 NaN  \n",
       "3                      0  fafdcd668e3743c1bb461111dcafc2a4                 NaN  \n",
       "4                      0  4d5c57ea9a6940dd891ad53e9dbe8da0                 NaN  "
      ]
     },
     "execution_count": 18,
     "metadata": {},
     "output_type": "execute_result"
    }
   ],
   "source": [
    "print_line('Shape')\n",
    "print(transcript.shape)\n",
    "print_line('Dtypes')\n",
    "print(transcript.dtypes)\n",
    "print_line('# Unique customer IDs')\n",
    "print(transcript.customer_id.unique().shape)\n",
    "print_line('# Profiles')\n",
    "print(profile.id.unique().shape)\n",
    "print_line('Types of Events')\n",
    "print(transcript.event.value_counts())\n",
    "print_line('Days Since Test Start')\n",
    "print(transcript.days_since_test_start.value_counts().sort_index())\n",
    "print_line('% of Nulls')\n",
    "print(transcript.isnull().mean())\n",
    "transcript.head()"
   ]
  },
  {
   "cell_type": "code",
   "execution_count": 19,
   "metadata": {},
   "outputs": [
    {
     "name": "stdout",
     "output_type": "stream",
     "text": [
      "**************************************************\n",
      "\t\tMean Days\n",
      "**************************************************\n",
      "Offer received:\t 13.85747997430418\n",
      "Offer viewed:\t 14.462468601126028\n",
      "Offer completed: 16.2958230365861\n",
      "Transactions:\t 15.52511280792786\n",
      "**************************************************\n",
      "\t\tCounts\n",
      "**************************************************\n",
      "Offer received:\t 76277\n",
      "Offer viewed:\t 57725\n",
      "Offer completed: 33182\n",
      "Transactions:\t 138953\n"
     ]
    }
   ],
   "source": [
    "received_mean = transcript.query(\"event == 'offer received'\")['days_since_test_start'].mean()\n",
    "received_cnt = transcript.query(\"event == 'offer received'\")['days_since_test_start'].count()\n",
    "\n",
    "completed_mean = transcript.query(\"event == 'offer completed'\")['days_since_test_start'].mean()\n",
    "completed_cnt = transcript.query(\"event == 'offer completed'\")['days_since_test_start'].count()\n",
    "\n",
    "viewed_mean = transcript.query(\"event == 'offer viewed'\")['days_since_test_start'].mean()\n",
    "viewed_cnt = transcript.query(\"event == 'offer viewed'\")['days_since_test_start'].count()\n",
    "\n",
    "transactions_mean = transcript.query(\"event == 'transaction'\")['days_since_test_start'].mean()\n",
    "transactions_cnt = transcript.query(\"event == 'transaction'\")['days_since_test_start'].count()\n",
    "\n",
    "print_line('Mean Days')\n",
    "print('Offer received:\\t', received_mean)\n",
    "print('Offer viewed:\\t', viewed_mean)\n",
    "print('Offer completed:', completed_mean)\n",
    "print('Transactions:\\t', transactions_mean)\n",
    "\n",
    "print_line('Counts')\n",
    "print('Offer received:\\t', received_cnt)\n",
    "print('Offer viewed:\\t', viewed_cnt)\n",
    "print('Offer completed:', completed_cnt)\n",
    "print('Transactions:\\t', transactions_cnt)"
   ]
  },
  {
   "cell_type": "markdown",
   "metadata": {},
   "source": [
    "### Q7. What was the distribution of events in the transcript dataset?\n",
    "Distribution of Events"
   ]
  },
  {
   "cell_type": "code",
   "execution_count": 20,
   "metadata": {},
   "outputs": [
    {
     "data": {
      "image/png": "[encoded data removed]",
      "text/plain": [
       "<Figure size 1080x576 with 1 Axes>"
      ]
     },
     "metadata": {
      "needs_background": "light"
     },
     "output_type": "display_data"
    }
   ],
   "source": [
    "fig, ax = plt.subplots(figsize=(15,8))\n",
    "\n",
    "transcript.event.value_counts().plot(kind='bar', ax=ax, color=[\"#219ebc\",\"#fb8500\",\"#70e000\",\"#f72585\"])\n",
    "ax.set_xticklabels(ax.get_xticklabels(), rotation=0)\n",
    "ax.set_title('Distribution of Event Types')\n",
    "ax.set_ylabel('Count of Events')\n",
    "ax.set_xlabel('Event Type');"
   ]
  },
  {
   "cell_type": "markdown",
   "metadata": {},
   "source": [
    "The most common events in the transcript data were transactions, followed by offers received, offers viewed and offers compelted. This makes sense as we would not expect all customers who receive an offer to view it, nor would we expect all customers who view an offer to complete it. Ideally, a model such as the one in this notebook would be used to help to identify which customers would be most responsive to receiving an offer and would be likely to view it and complete it."
   ]
  },
  {
   "cell_type": "markdown",
   "metadata": {},
   "source": [
    "### Q8. Was there a pattern in the release of offers?\n",
    "Distribution of Days Since Test Start"
   ]
  },
  {
   "cell_type": "code",
   "execution_count": 21,
   "metadata": {},
   "outputs": [
    {
     "data": {
      "image/png": "[encoded data removed]",
      "text/plain": [
       "<Figure size 1080x576 with 1 Axes>"
      ]
     },
     "metadata": {
      "needs_background": "light"
     },
     "output_type": "display_data"
    }
   ],
   "source": [
    "fig, ax = plt.subplots(figsize=(15,8))\n",
    "\n",
    "transcript.days_since_test_start.value_counts().sort_index().plot(kind='bar', ax=ax, color=[\"#70e000\"])\n",
    "ax.set_xticklabels(ax.get_xticklabels(), rotation=0)\n",
    "ax.set_title('Distribution of Days Since Test Start')\n",
    "ax.set_ylabel('Count of Events')\n",
    "ax.set_xlabel('Days Since Test Start');"
   ]
  },
  {
   "cell_type": "markdown",
   "metadata": {},
   "source": [
    "When we look at the distribution of time (converted to days) since test start, we can see clear spikes on days 0,7,14,21, etc. which suggests that the tests perhaps commence weekly or that there is clear scheduling behind receiving offers and completing offers."
   ]
  },
  {
   "cell_type": "markdown",
   "metadata": {},
   "source": [
    "### Q9. What was the distribution of transaction amounts?\n",
    "Distributions of Transaction Amounts"
   ]
  },
  {
   "cell_type": "code",
   "execution_count": 22,
   "metadata": {
    "scrolled": false
   },
   "outputs": [
    {
     "data": {
      "image/png": "[encoded data removed]",
      "text/plain": [
       "<Figure size 1080x576 with 1 Axes>"
      ]
     },
     "metadata": {
      "needs_background": "light"
     },
     "output_type": "display_data"
    }
   ],
   "source": [
    "fig, ax = plt.subplots(figsize=(15,8))\n",
    "\n",
    "transcript.transaction_amount.value_counts().plot(kind='hist', ax=ax, color=[\"#219ebc\"])\n",
    "ax.set_title('Distribution of Transaction Amounts')\n",
    "ax.set_xlim(0,175)\n",
    "ax.set_ylabel('Count')\n",
    "ax.set_xlabel('Transaction Amount');"
   ]
  },
  {
   "cell_type": "code",
   "execution_count": 23,
   "metadata": {},
   "outputs": [
    {
     "name": "stdout",
     "output_type": "stream",
     "text": [
      "count    16578.000000\n",
      "mean        13.680266\n",
      "std         16.056763\n",
      "min          0.050000\n",
      "25%          3.181392\n",
      "50%         11.996607\n",
      "75%         20.469643\n",
      "max        451.470000\n",
      "Name: transaction_amount, dtype: float64\n"
     ]
    },
    {
     "data": {
      "image/png": "[encoded data removed]",
      "text/plain": [
       "<Figure size 1080x360 with 2 Axes>"
      ]
     },
     "metadata": {
      "needs_background": "light"
     },
     "output_type": "display_data"
    }
   ],
   "source": [
    "fig, (ax1,ax2) = plt.subplots(1,2,figsize=(15,5))\n",
    "\n",
    "transcript.groupby('customer_id')['transaction_amount'].mean().plot(kind='hist', bins=100, ax=ax1, color=[\"#f72585\"])\n",
    "ax1.set_title('Distribution of Mean Transaction Amounts per Customer')\n",
    "ax1.set_xlim(0,140)\n",
    "ax1.set_ylabel('Count')\n",
    "ax1.set_xlabel('Mean Transaction Amount ($)')\n",
    "\n",
    "transcript.groupby('customer_id')['transaction_amount'].sum().plot(kind='hist', bins=100, ax=ax2, color=[\"#f72585\"])\n",
    "ax2.set_title('Distribution of Total Transaction Amounts per Customer')\n",
    "ax2.set_xlim(0,1200)\n",
    "ax2.set_ylabel('Count')\n",
    "ax2.set_xlabel('Total Transaction Amount ($)');\n",
    "\n",
    "print(transcript.groupby('customer_id')['transaction_amount'].mean().describe())"
   ]
  },
  {
   "cell_type": "code",
   "execution_count": 24,
   "metadata": {},
   "outputs": [
    {
     "data": {
      "application/vnd.dataresource+json": {
       "data": [
        {
         "index": "count",
         "transaction_amount": 17000
        },
        {
         "index": "mean",
         "transaction_amount": 8.1737058824
        },
        {
         "index": "std",
         "transaction_amount": 5.116249905
        },
        {
         "index": "min",
         "transaction_amount": 0
        },
        {
         "index": "25%",
         "transaction_amount": 4
        },
        {
         "index": "50%",
         "transaction_amount": 7
        },
        {
         "index": "75%",
         "transaction_amount": 11
        },
        {
         "index": "max",
         "transaction_amount": 36
        }
       ],
       "schema": {
        "fields": [
         {
          "name": "index",
          "type": "string"
         },
         {
          "name": "transaction_amount",
          "type": "number"
         }
        ],
        "pandas_version": "0.20.0",
        "primaryKey": [
         "index"
        ]
       }
      },
      "text/plain": [
       "count    17000.000000\n",
       "mean         8.173706\n",
       "std          5.116250\n",
       "min          0.000000\n",
       "25%          4.000000\n",
       "50%          7.000000\n",
       "75%         11.000000\n",
       "max         36.000000\n",
       "Name: transaction_amount, dtype: float64"
      ]
     },
     "execution_count": 24,
     "metadata": {},
     "output_type": "execute_result"
    },
    {
     "data": {
      "image/png": "[encoded data removed]",
      "text/plain": [
       "<Figure size 1080x576 with 1 Axes>"
      ]
     },
     "metadata": {
      "needs_background": "light"
     },
     "output_type": "display_data"
    }
   ],
   "source": [
    "fig, ax = plt.subplots(figsize=(15,8))\n",
    "\n",
    "transcript.groupby('customer_id')['transaction_amount'].count().plot(kind='hist', bins=100, ax=ax, color=[\"#f72585\"])\n",
    "ax.set_title('Distribution of Transactions per Customer')\n",
    "ax.set_ylabel('Count')\n",
    "ax.set_xlabel('Number of Transactions');\n",
    "\n",
    "transcript.groupby('customer_id')['transaction_amount'].count().describe()"
   ]
  },
  {
   "cell_type": "markdown",
   "metadata": {},
   "source": [
    "As expected, the distribution of transaction amounts is very skewed. This makes sense as Starbucks is a coffee shop and therefore we would not expect many large transactions from customers. From examining the distribution of mean transaction amounts per customer and the distribution of total transaction amounts per customer, we can also see that Starbucks transactions are primarily comprised of multiple smaller transactions. This likely lends to their membership offers."
   ]
  },
  {
   "cell_type": "markdown",
   "metadata": {},
   "source": [
    "## 3. Portfolio Data"
   ]
  },
  {
   "cell_type": "code",
   "execution_count": 25,
   "metadata": {},
   "outputs": [
    {
     "name": "stdout",
     "output_type": "stream",
     "text": [
      "**************************************************\n",
      "\t\tShape\n",
      "**************************************************\n",
      "(10, 6)\n",
      "**************************************************\n",
      "\t\tDtypes\n",
      "**************************************************\n",
      "reward         int64\n",
      "channels      object\n",
      "difficulty     int64\n",
      "duration       int64\n",
      "offer_type    object\n",
      "id            object\n",
      "dtype: object\n",
      "**************************************************\n",
      "\t\tDuplicate IDs\n",
      "**************************************************\n",
      "False\n",
      "**************************************************\n",
      "\t\t% of Nulls\n",
      "**************************************************\n",
      "reward        0.0\n",
      "channels      0.0\n",
      "difficulty    0.0\n",
      "duration      0.0\n",
      "offer_type    0.0\n",
      "id            0.0\n",
      "dtype: float64\n",
      "**************************************************\n",
      "\t\tTypes of Offers\n",
      "**************************************************\n",
      "discount         4\n",
      "bogo             4\n",
      "informational    2\n",
      "Name: offer_type, dtype: int64\n",
      "count           10\n",
      "unique           3\n",
      "top       discount\n",
      "freq             4\n",
      "Name: offer_type, dtype: object\n",
      "**************************************************\n",
      "\t\tDescribe Difficulty & Duration\n",
      "**************************************************\n",
      "       difficulty   duration\n",
      "count   10.000000  10.000000\n",
      "mean     7.700000   6.500000\n",
      "std      5.831905   2.321398\n",
      "min      0.000000   3.000000\n",
      "25%      5.000000   5.000000\n",
      "50%      8.500000   7.000000\n",
      "75%     10.000000   7.000000\n",
      "max     20.000000  10.000000\n",
      "**************************************************\n",
      "\t\tChannels\n",
      "**************************************************\n",
      "[web, email, mobile, social]    4\n",
      "[web, email, mobile]            3\n",
      "[email, mobile, social]         2\n",
      "[web, email]                    1\n",
      "Name: channels, dtype: int64\n"
     ]
    },
    {
     "data": {
      "application/vnd.dataresource+json": {
       "data": [
        {
         "channels": [
          "email",
          "mobile",
          "social"
         ],
         "difficulty": 10,
         "duration": 7,
         "id": "ae264e3637204a6fb9bb56bc8210ddfd",
         "index": 0,
         "offer_type": "bogo",
         "reward": 10
        },
        {
         "channels": [
          "web",
          "email",
          "mobile",
          "social"
         ],
         "difficulty": 10,
         "duration": 5,
         "id": "4d5c57ea9a6940dd891ad53e9dbe8da0",
         "index": 1,
         "offer_type": "bogo",
         "reward": 10
        },
        {
         "channels": [
          "web",
          "email",
          "mobile"
         ],
         "difficulty": 0,
         "duration": 4,
         "id": "3f207df678b143eea3cee63160fa8bed",
         "index": 2,
         "offer_type": "informational",
         "reward": 0
        },
        {
         "channels": [
          "web",
          "email",
          "mobile"
         ],
         "difficulty": 5,
         "duration": 7,
         "id": "9b98b8c7a33c4b65b9aebfe6a799e6d9",
         "index": 3,
         "offer_type": "bogo",
         "reward": 5
        },
        {
         "channels": [
          "web",
          "email"
         ],
         "difficulty": 20,
         "duration": 10,
         "id": "0b1e1539f2cc45b7b9fa7c272da2e1d7",
         "index": 4,
         "offer_type": "discount",
         "reward": 5
        },
        {
         "channels": [
          "web",
          "email",
          "mobile",
          "social"
         ],
         "difficulty": 7,
         "duration": 7,
         "id": "2298d6c36e964ae4a3e7e9706d1fb8c2",
         "index": 5,
         "offer_type": "discount",
         "reward": 3
        },
        {
         "channels": [
          "web",
          "email",
          "mobile",
          "social"
         ],
         "difficulty": 10,
         "duration": 10,
         "id": "fafdcd668e3743c1bb461111dcafc2a4",
         "index": 6,
         "offer_type": "discount",
         "reward": 2
        },
        {
         "channels": [
          "email",
          "mobile",
          "social"
         ],
         "difficulty": 0,
         "duration": 3,
         "id": "5a8bc65990b245e5a138643cd4eb9837",
         "index": 7,
         "offer_type": "informational",
         "reward": 0
        },
        {
         "channels": [
          "web",
          "email",
          "mobile",
          "social"
         ],
         "difficulty": 5,
         "duration": 5,
         "id": "f19421c1d4aa40978ebb69ca19b0e20d",
         "index": 8,
         "offer_type": "bogo",
         "reward": 5
        },
        {
         "channels": [
          "web",
          "email",
          "mobile"
         ],
         "difficulty": 10,
         "duration": 7,
         "id": "2906b810c7d4411798c6938adc9daaa5",
         "index": 9,
         "offer_type": "discount",
         "reward": 2
        }
       ],
       "schema": {
        "fields": [
         {
          "name": "index",
          "type": "integer"
         },
         {
          "name": "reward",
          "type": "integer"
         },
         {
          "name": "channels",
          "type": "string"
         },
         {
          "name": "difficulty",
          "type": "integer"
         },
         {
          "name": "duration",
          "type": "integer"
         },
         {
          "name": "offer_type",
          "type": "string"
         },
         {
          "name": "id",
          "type": "string"
         }
        ],
        "pandas_version": "0.20.0",
        "primaryKey": [
         "index"
        ]
       }
      },
      "text/html": [
       "<div>\n",
       "<style scoped>\n",
       "    .dataframe tbody tr th:only-of-type {\n",
       "        vertical-align: middle;\n",
       "    }\n",
       "\n",
       "    .dataframe tbody tr th {\n",
       "        vertical-align: top;\n",
       "    }\n",
       "\n",
       "    .dataframe thead th {\n",
       "        text-align: right;\n",
       "    }\n",
       "</style>\n",
       "<table border=\"1\" class=\"dataframe\">\n",
       "  <thead>\n",
       "    <tr style=\"text-align: right;\">\n",
       "      <th></th>\n",
       "      <th>reward</th>\n",
       "      <th>channels</th>\n",
       "      <th>difficulty</th>\n",
       "      <th>duration</th>\n",
       "      <th>offer_type</th>\n",
       "      <th>id</th>\n",
       "    </tr>\n",
       "  </thead>\n",
       "  <tbody>\n",
       "    <tr>\n",
       "      <th>0</th>\n",
       "      <td>10</td>\n",
       "      <td>[email, mobile, social]</td>\n",
       "      <td>10</td>\n",
       "      <td>7</td>\n",
       "      <td>bogo</td>\n",
       "      <td>ae264e3637204a6fb9bb56bc8210ddfd</td>\n",
       "    </tr>\n",
       "    <tr>\n",
       "      <th>1</th>\n",
       "      <td>10</td>\n",
       "      <td>[web, email, mobile, social]</td>\n",
       "      <td>10</td>\n",
       "      <td>5</td>\n",
       "      <td>bogo</td>\n",
       "      <td>4d5c57ea9a6940dd891ad53e9dbe8da0</td>\n",
       "    </tr>\n",
       "    <tr>\n",
       "      <th>2</th>\n",
       "      <td>0</td>\n",
       "      <td>[web, email, mobile]</td>\n",
       "      <td>0</td>\n",
       "      <td>4</td>\n",
       "      <td>informational</td>\n",
       "      <td>3f207df678b143eea3cee63160fa8bed</td>\n",
       "    </tr>\n",
       "    <tr>\n",
       "      <th>3</th>\n",
       "      <td>5</td>\n",
       "      <td>[web, email, mobile]</td>\n",
       "      <td>5</td>\n",
       "      <td>7</td>\n",
       "      <td>bogo</td>\n",
       "      <td>9b98b8c7a33c4b65b9aebfe6a799e6d9</td>\n",
       "    </tr>\n",
       "    <tr>\n",
       "      <th>4</th>\n",
       "      <td>5</td>\n",
       "      <td>[web, email]</td>\n",
       "      <td>20</td>\n",
       "      <td>10</td>\n",
       "      <td>discount</td>\n",
       "      <td>0b1e1539f2cc45b7b9fa7c272da2e1d7</td>\n",
       "    </tr>\n",
       "    <tr>\n",
       "      <th>5</th>\n",
       "      <td>3</td>\n",
       "      <td>[web, email, mobile, social]</td>\n",
       "      <td>7</td>\n",
       "      <td>7</td>\n",
       "      <td>discount</td>\n",
       "      <td>2298d6c36e964ae4a3e7e9706d1fb8c2</td>\n",
       "    </tr>\n",
       "    <tr>\n",
       "      <th>6</th>\n",
       "      <td>2</td>\n",
       "      <td>[web, email, mobile, social]</td>\n",
       "      <td>10</td>\n",
       "      <td>10</td>\n",
       "      <td>discount</td>\n",
       "      <td>fafdcd668e3743c1bb461111dcafc2a4</td>\n",
       "    </tr>\n",
       "    <tr>\n",
       "      <th>7</th>\n",
       "      <td>0</td>\n",
       "      <td>[email, mobile, social]</td>\n",
       "      <td>0</td>\n",
       "      <td>3</td>\n",
       "      <td>informational</td>\n",
       "      <td>5a8bc65990b245e5a138643cd4eb9837</td>\n",
       "    </tr>\n",
       "    <tr>\n",
       "      <th>8</th>\n",
       "      <td>5</td>\n",
       "      <td>[web, email, mobile, social]</td>\n",
       "      <td>5</td>\n",
       "      <td>5</td>\n",
       "      <td>bogo</td>\n",
       "      <td>f19421c1d4aa40978ebb69ca19b0e20d</td>\n",
       "    </tr>\n",
       "    <tr>\n",
       "      <th>9</th>\n",
       "      <td>2</td>\n",
       "      <td>[web, email, mobile]</td>\n",
       "      <td>10</td>\n",
       "      <td>7</td>\n",
       "      <td>discount</td>\n",
       "      <td>2906b810c7d4411798c6938adc9daaa5</td>\n",
       "    </tr>\n",
       "  </tbody>\n",
       "</table>\n",
       "</div>"
      ],
      "text/plain": [
       "   reward                      channels  difficulty  duration     offer_type  \\\n",
       "0      10       [email, mobile, social]          10         7           bogo   \n",
       "1      10  [web, email, mobile, social]          10         5           bogo   \n",
       "2       0          [web, email, mobile]           0         4  informational   \n",
       "3       5          [web, email, mobile]           5         7           bogo   \n",
       "4       5                  [web, email]          20        10       discount   \n",
       "5       3  [web, email, mobile, social]           7         7       discount   \n",
       "6       2  [web, email, mobile, social]          10        10       discount   \n",
       "7       0       [email, mobile, social]           0         3  informational   \n",
       "8       5  [web, email, mobile, social]           5         5           bogo   \n",
       "9       2          [web, email, mobile]          10         7       discount   \n",
       "\n",
       "                                 id  \n",
       "0  ae264e3637204a6fb9bb56bc8210ddfd  \n",
       "1  4d5c57ea9a6940dd891ad53e9dbe8da0  \n",
       "2  3f207df678b143eea3cee63160fa8bed  \n",
       "3  9b98b8c7a33c4b65b9aebfe6a799e6d9  \n",
       "4  0b1e1539f2cc45b7b9fa7c272da2e1d7  \n",
       "5  2298d6c36e964ae4a3e7e9706d1fb8c2  \n",
       "6  fafdcd668e3743c1bb461111dcafc2a4  \n",
       "7  5a8bc65990b245e5a138643cd4eb9837  \n",
       "8  f19421c1d4aa40978ebb69ca19b0e20d  \n",
       "9  2906b810c7d4411798c6938adc9daaa5  "
      ]
     },
     "execution_count": 25,
     "metadata": {},
     "output_type": "execute_result"
    }
   ],
   "source": [
    "print_line('Shape')\n",
    "print(portfolio.shape)\n",
    "print_line('Dtypes')\n",
    "print(portfolio.dtypes)\n",
    "print_line('Duplicate IDs')\n",
    "print(portfolio.id.duplicated().any())\n",
    "print_line('% of Nulls')\n",
    "print(portfolio.isnull().mean())\n",
    "print_line('Types of Offers')\n",
    "print(portfolio.offer_type.value_counts())\n",
    "print(portfolio.offer_type.describe())\n",
    "print_line('Describe Difficulty & Duration')\n",
    "print(portfolio[['difficulty', 'duration']].describe())\n",
    "print_line('Channels')\n",
    "print(portfolio.channels.value_counts())\n",
    "portfolio.head(10)"
   ]
  },
  {
   "cell_type": "code",
   "execution_count": 26,
   "metadata": {},
   "outputs": [],
   "source": [
    "# one hot encode offers, save to separate df and concat with portfolio df\n",
    "offer_type_dummies = pd.get_dummies(portfolio['offer_type'], prefix = 'offer')\n",
    "portfolio = pd.concat([portfolio,offer_type_dummies], axis = 1)\n",
    "\n",
    "mlb = MultiLabelBinarizer()\n",
    "\n",
    "# one hot encode channels, save to separate df and concat with portfolio df\n",
    "ohe_channels = mlb.fit_transform(portfolio['channels'])\n",
    "df_channels = pd.DataFrame(data=ohe_channels, columns=mlb.classes_)\n",
    "portfolio = pd.concat([portfolio,df_channels], axis=1)\n",
    "# drop original columns\n",
    "portfolio.drop(['channels'], axis=1, inplace=True)\n",
    "\n",
    "# add prefix to ohe columns\n",
    "portfolio.rename(columns = {'email':'channel_email', 'mobile':'channel_mobile', \\\n",
    "                            'social':'channel_social', 'web':'channel_web'}, inplace=True)"
   ]
  },
  {
   "cell_type": "markdown",
   "metadata": {},
   "source": [
    "### Q10. What were the most common offer types by channel?\n",
    "Count of Offer Types by Channels"
   ]
  },
  {
   "cell_type": "code",
   "execution_count": 27,
   "metadata": {},
   "outputs": [
    {
     "data": {
      "image/png": "[encoded data removed]",
      "text/plain": [
       "<Figure size 1080x576 with 1 Axes>"
      ]
     },
     "metadata": {
      "needs_background": "light"
     },
     "output_type": "display_data"
    }
   ],
   "source": [
    "fig, ax = plt.subplots(figsize=(15,8))\n",
    "\n",
    "portfolio.groupby('offer_type').sum()[['channel_web', 'channel_email', 'channel_mobile', 'channel_social']]\\\n",
    ".plot(kind='bar', ax=ax, color=[\"#219ebc\",\"#fb8500\",\"#70e000\",\"#f72585\"])\n",
    "ax.set_xticklabels(ax.get_xticklabels(), rotation=0)\n",
    "ax.set_title('Offer Types by Channels')\n",
    "ax.set_ylabel('Count of Events')\n",
    "ax.set_xlabel('Type of Offer');"
   ]
  },
  {
   "cell_type": "markdown",
   "metadata": {},
   "source": [
    "- The most popular channels for bogo offers were email and mobile.\n",
    "- The most popular channels for discount offers were email and web.\n",
    "- The most popular channels for informational offers were email and mobile."
   ]
  },
  {
   "cell_type": "code",
   "execution_count": 28,
   "metadata": {},
   "outputs": [],
   "source": [
    "#drop offer type now that it is one hot encoded\n",
    "portfolio.drop(['offer_type'], axis=1, inplace=True)"
   ]
  },
  {
   "cell_type": "code",
   "execution_count": 29,
   "metadata": {},
   "outputs": [
    {
     "name": "stdout",
     "output_type": "stream",
     "text": [
      "**************************************************\n",
      "\t\tShape\n",
      "**************************************************\n",
      "(10, 11)\n",
      "**************************************************\n",
      "\t\tDtypes\n",
      "**************************************************\n",
      "reward                  int64\n",
      "difficulty              int64\n",
      "duration                int64\n",
      "id                     object\n",
      "offer_bogo              uint8\n",
      "offer_discount          uint8\n",
      "offer_informational     uint8\n",
      "channel_email           int32\n",
      "channel_mobile          int32\n",
      "channel_social          int32\n",
      "channel_web             int32\n",
      "dtype: object\n"
     ]
    },
    {
     "data": {
      "application/vnd.dataresource+json": {
       "data": [
        {
         "channel_email": 1,
         "channel_mobile": 1,
         "channel_social": 1,
         "channel_web": 0,
         "difficulty": 10,
         "duration": 7,
         "id": "ae264e3637204a6fb9bb56bc8210ddfd",
         "index": 0,
         "offer_bogo": 1,
         "offer_discount": 0,
         "offer_informational": 0,
         "reward": 10
        },
        {
         "channel_email": 1,
         "channel_mobile": 1,
         "channel_social": 1,
         "channel_web": 1,
         "difficulty": 10,
         "duration": 5,
         "id": "4d5c57ea9a6940dd891ad53e9dbe8da0",
         "index": 1,
         "offer_bogo": 1,
         "offer_discount": 0,
         "offer_informational": 0,
         "reward": 10
        },
        {
         "channel_email": 1,
         "channel_mobile": 1,
         "channel_social": 0,
         "channel_web": 1,
         "difficulty": 0,
         "duration": 4,
         "id": "3f207df678b143eea3cee63160fa8bed",
         "index": 2,
         "offer_bogo": 0,
         "offer_discount": 0,
         "offer_informational": 1,
         "reward": 0
        },
        {
         "channel_email": 1,
         "channel_mobile": 1,
         "channel_social": 0,
         "channel_web": 1,
         "difficulty": 5,
         "duration": 7,
         "id": "9b98b8c7a33c4b65b9aebfe6a799e6d9",
         "index": 3,
         "offer_bogo": 1,
         "offer_discount": 0,
         "offer_informational": 0,
         "reward": 5
        },
        {
         "channel_email": 1,
         "channel_mobile": 0,
         "channel_social": 0,
         "channel_web": 1,
         "difficulty": 20,
         "duration": 10,
         "id": "0b1e1539f2cc45b7b9fa7c272da2e1d7",
         "index": 4,
         "offer_bogo": 0,
         "offer_discount": 1,
         "offer_informational": 0,
         "reward": 5
        }
       ],
       "schema": {
        "fields": [
         {
          "name": "index",
          "type": "integer"
         },
         {
          "name": "reward",
          "type": "integer"
         },
         {
          "name": "difficulty",
          "type": "integer"
         },
         {
          "name": "duration",
          "type": "integer"
         },
         {
          "name": "id",
          "type": "string"
         },
         {
          "name": "offer_bogo",
          "type": "integer"
         },
         {
          "name": "offer_discount",
          "type": "integer"
         },
         {
          "name": "offer_informational",
          "type": "integer"
         },
         {
          "name": "channel_email",
          "type": "integer"
         },
         {
          "name": "channel_mobile",
          "type": "integer"
         },
         {
          "name": "channel_social",
          "type": "integer"
         },
         {
          "name": "channel_web",
          "type": "integer"
         }
        ],
        "pandas_version": "0.20.0",
        "primaryKey": [
         "index"
        ]
       }
      },
      "text/html": [
       "<div>\n",
       "<style scoped>\n",
       "    .dataframe tbody tr th:only-of-type {\n",
       "        vertical-align: middle;\n",
       "    }\n",
       "\n",
       "    .dataframe tbody tr th {\n",
       "        vertical-align: top;\n",
       "    }\n",
       "\n",
       "    .dataframe thead th {\n",
       "        text-align: right;\n",
       "    }\n",
       "</style>\n",
       "<table border=\"1\" class=\"dataframe\">\n",
       "  <thead>\n",
       "    <tr style=\"text-align: right;\">\n",
       "      <th></th>\n",
       "      <th>reward</th>\n",
       "      <th>difficulty</th>\n",
       "      <th>duration</th>\n",
       "      <th>id</th>\n",
       "      <th>offer_bogo</th>\n",
       "      <th>offer_discount</th>\n",
       "      <th>offer_informational</th>\n",
       "      <th>channel_email</th>\n",
       "      <th>channel_mobile</th>\n",
       "      <th>channel_social</th>\n",
       "      <th>channel_web</th>\n",
       "    </tr>\n",
       "  </thead>\n",
       "  <tbody>\n",
       "    <tr>\n",
       "      <th>0</th>\n",
       "      <td>10</td>\n",
       "      <td>10</td>\n",
       "      <td>7</td>\n",
       "      <td>ae264e3637204a6fb9bb56bc8210ddfd</td>\n",
       "      <td>1</td>\n",
       "      <td>0</td>\n",
       "      <td>0</td>\n",
       "      <td>1</td>\n",
       "      <td>1</td>\n",
       "      <td>1</td>\n",
       "      <td>0</td>\n",
       "    </tr>\n",
       "    <tr>\n",
       "      <th>1</th>\n",
       "      <td>10</td>\n",
       "      <td>10</td>\n",
       "      <td>5</td>\n",
       "      <td>4d5c57ea9a6940dd891ad53e9dbe8da0</td>\n",
       "      <td>1</td>\n",
       "      <td>0</td>\n",
       "      <td>0</td>\n",
       "      <td>1</td>\n",
       "      <td>1</td>\n",
       "      <td>1</td>\n",
       "      <td>1</td>\n",
       "    </tr>\n",
       "    <tr>\n",
       "      <th>2</th>\n",
       "      <td>0</td>\n",
       "      <td>0</td>\n",
       "      <td>4</td>\n",
       "      <td>3f207df678b143eea3cee63160fa8bed</td>\n",
       "      <td>0</td>\n",
       "      <td>0</td>\n",
       "      <td>1</td>\n",
       "      <td>1</td>\n",
       "      <td>1</td>\n",
       "      <td>0</td>\n",
       "      <td>1</td>\n",
       "    </tr>\n",
       "    <tr>\n",
       "      <th>3</th>\n",
       "      <td>5</td>\n",
       "      <td>5</td>\n",
       "      <td>7</td>\n",
       "      <td>9b98b8c7a33c4b65b9aebfe6a799e6d9</td>\n",
       "      <td>1</td>\n",
       "      <td>0</td>\n",
       "      <td>0</td>\n",
       "      <td>1</td>\n",
       "      <td>1</td>\n",
       "      <td>0</td>\n",
       "      <td>1</td>\n",
       "    </tr>\n",
       "    <tr>\n",
       "      <th>4</th>\n",
       "      <td>5</td>\n",
       "      <td>20</td>\n",
       "      <td>10</td>\n",
       "      <td>0b1e1539f2cc45b7b9fa7c272da2e1d7</td>\n",
       "      <td>0</td>\n",
       "      <td>1</td>\n",
       "      <td>0</td>\n",
       "      <td>1</td>\n",
       "      <td>0</td>\n",
       "      <td>0</td>\n",
       "      <td>1</td>\n",
       "    </tr>\n",
       "  </tbody>\n",
       "</table>\n",
       "</div>"
      ],
      "text/plain": [
       "   reward  difficulty  duration                                id  offer_bogo  \\\n",
       "0      10          10         7  ae264e3637204a6fb9bb56bc8210ddfd           1   \n",
       "1      10          10         5  4d5c57ea9a6940dd891ad53e9dbe8da0           1   \n",
       "2       0           0         4  3f207df678b143eea3cee63160fa8bed           0   \n",
       "3       5           5         7  9b98b8c7a33c4b65b9aebfe6a799e6d9           1   \n",
       "4       5          20        10  0b1e1539f2cc45b7b9fa7c272da2e1d7           0   \n",
       "\n",
       "   offer_discount  offer_informational  channel_email  channel_mobile  \\\n",
       "0               0                    0              1               1   \n",
       "1               0                    0              1               1   \n",
       "2               0                    1              1               1   \n",
       "3               0                    0              1               1   \n",
       "4               1                    0              1               0   \n",
       "\n",
       "   channel_social  channel_web  \n",
       "0               1            0  \n",
       "1               1            1  \n",
       "2               0            1  \n",
       "3               0            1  \n",
       "4               0            1  "
      ]
     },
     "execution_count": 29,
     "metadata": {},
     "output_type": "execute_result"
    }
   ],
   "source": [
    "print_line('Shape')\n",
    "print(portfolio.shape)\n",
    "print_line('Dtypes')\n",
    "print(portfolio.dtypes)\n",
    "portfolio.head()"
   ]
  },
  {
   "cell_type": "markdown",
   "metadata": {},
   "source": [
    "### Q11. What were the distributions for duration, reward and difficulty of offers?\n",
    " \n",
    "Distributions of Duration, Reward and Difficulty by Count of Offers"
   ]
  },
  {
   "cell_type": "code",
   "execution_count": 30,
   "metadata": {},
   "outputs": [
    {
     "data": {
      "image/png": "[encoded data removed]",
      "text/plain": [
       "<Figure size 1080x360 with 3 Axes>"
      ]
     },
     "metadata": {
      "needs_background": "light"
     },
     "output_type": "display_data"
    }
   ],
   "source": [
    "fig, (ax1, ax2, ax3) = plt.subplots(1,3, figsize=(15,5))\n",
    "\n",
    "portfolio.duration.value_counts().sort_index().plot(kind='bar', ax=ax1, color=['#f72585'])\n",
    "ax1.set_xticklabels(ax1.get_xticklabels(), rotation=0)\n",
    "ax1.set_title('Distribution of Duration')\n",
    "ax1.set_ylabel('Offer Count')\n",
    "ax1.set_xlabel('Duration');\n",
    "\n",
    "portfolio.reward.value_counts().sort_index().plot(kind='bar', ax=ax2, color=['#219ebc'])\n",
    "ax2.set_xticklabels(ax2.get_xticklabels(), rotation=0)\n",
    "ax2.set_title('Distribution of Reward')\n",
    "ax2.set_ylabel('Offer Count')\n",
    "ax2.set_xlabel('Reward');\n",
    "\n",
    "portfolio.difficulty.value_counts().sort_index().plot(kind='bar', ax=ax3, color=['#fb8500'])\n",
    "ax3.set_xticklabels(ax3.get_xticklabels(), rotation=0)\n",
    "ax3.set_title('Distribution of Difficulty')\n",
    "ax3.set_ylabel('Offer Count')\n",
    "ax3.set_xlabel('Difficulty');"
   ]
  },
  {
   "cell_type": "markdown",
   "metadata": {},
   "source": [
    "The most common duration of offers was 7 days (1 week) which coincides with the spike in 'days since test start' we saw earlier. Most rewards for offers were 5, 0 or 2 dollars and the most common difficulty was $10. This most common difficulty was to be expected as it allows Starbucks to make these membership offers profitable and worth the company's while."
   ]
  },
  {
   "cell_type": "code",
   "execution_count": 31,
   "metadata": {},
   "outputs": [
    {
     "name": "stdout",
     "output_type": "stream",
     "text": [
      "**************************************************\n",
      "\t\tDuration\n",
      "**************************************************\n",
      "median\t 7.0\n",
      "count    10.000000\n",
      "mean      6.500000\n",
      "std       2.321398\n",
      "min       3.000000\n",
      "25%       5.000000\n",
      "50%       7.000000\n",
      "75%       7.000000\n",
      "max      10.000000\n",
      "Name: duration, dtype: float64\n"
     ]
    }
   ],
   "source": [
    "print_line('Duration')\n",
    "print('median\\t', portfolio.duration.median())\n",
    "print(portfolio.duration.describe())"
   ]
  },
  {
   "cell_type": "code",
   "execution_count": 32,
   "metadata": {},
   "outputs": [
    {
     "name": "stdout",
     "output_type": "stream",
     "text": [
      "**************************************************\n",
      "\t\tReward\n",
      "**************************************************\n",
      "median\t 4.0\n",
      "count    10.000000\n",
      "mean      4.200000\n",
      "std       3.583915\n",
      "min       0.000000\n",
      "25%       2.000000\n",
      "50%       4.000000\n",
      "75%       5.000000\n",
      "max      10.000000\n",
      "Name: reward, dtype: float64\n"
     ]
    }
   ],
   "source": [
    "print_line('Reward')\n",
    "print('median\\t', portfolio.reward.median())\n",
    "print(portfolio.reward.describe())"
   ]
  },
  {
   "cell_type": "code",
   "execution_count": 33,
   "metadata": {},
   "outputs": [
    {
     "name": "stdout",
     "output_type": "stream",
     "text": [
      "**************************************************\n",
      "\t\tDifficulty\n",
      "**************************************************\n",
      "median\t 8.5\n",
      "count    10.000000\n",
      "mean      7.700000\n",
      "std       5.831905\n",
      "min       0.000000\n",
      "25%       5.000000\n",
      "50%       8.500000\n",
      "75%      10.000000\n",
      "max      20.000000\n",
      "Name: difficulty, dtype: float64\n"
     ]
    }
   ],
   "source": [
    "print_line('Difficulty')\n",
    "print('median\\t', portfolio.difficulty.median())\n",
    "print(portfolio.difficulty.describe())"
   ]
  },
  {
   "cell_type": "markdown",
   "metadata": {},
   "source": [
    "# Summary of Data Pre-processing"
   ]
  },
  {
   "cell_type": "markdown",
   "metadata": {},
   "source": [
    "## 1. Profile Data:\n",
    "- ```became_member_on``` converted to date\n",
    "- ```membership_year``` attribute created\n",
    "- customer ```tenure_in_months``` calculated as of end of July 2018\n",
    "- Nulls in ```gender``` filled with 'U' for 'Unknown'\n",
    "- Nulls in ```income``` imputed with median income value and ```income``` datatype converted to int.\n",
    "- ```missing_income``` column created which indicates if ```income``` was Null\n",
    "- ```age_group``` column created which bins the ages"
   ]
  },
  {
   "cell_type": "markdown",
   "metadata": {},
   "source": [
    "## 2. Transcript Data:\n",
    "- ```offer id``` and ```transaction_amount``` columns created from extracting data from ```value``` column\n",
    "- ```time``` converted from hours to days to create column ```days_since_test_start```\n",
    "- ```person``` renamed to ```customer_id```\n",
    "- ```time``` renamed to ```time_hours```"
   ]
  },
  {
   "cell_type": "markdown",
   "metadata": {},
   "source": [
    "## 3. Portfolio Data:\n",
    "- ```offer_type``` was one hot encoded using pd.get_dummies()\n",
    "- ```channels``` was one hot encoded using a MultiLabelBinarizer\n",
    "- Original ```channels``` and ```offer_type``` columns dropped"
   ]
  },
  {
   "cell_type": "markdown",
   "metadata": {},
   "source": [
    "# Summary of Exploratory Data Analysis"
   ]
  },
  {
   "cell_type": "markdown",
   "metadata": {},
   "source": [
    "## 1. Profile Data:\n",
    "- There are 17,000 customers in the dataset.\n",
    "- 2,175 customers are missing income, age and gender from the dataset.\n",
    "\n",
    "- ~50% of customers are male, ~36% are female, ~1.25% are other and ~12.75% are unknown.\n",
    "\n",
    "- Ages range from 18-101 with a default age of 118 poulated for 2,175 customers missing an age in the dataset.\n",
    "\n",
    "- The most common age groups are 55-64(3,421), 45-54(3,013) and 65-74 (2,457).\n",
    "\n",
    "- Mean age is 62.\n",
    "\n",
    "- Mean income is ~65k, incomes range from ~30k to ~120k.\n",
    "\n",
    "- Mean income is higher for females than males and others.\n",
    " \n",
    "- Customer tenure in months range from 0 months to 60 months (5years).\n",
    "\n",
    "- 2017 was the busiest year in terms of new memberships, and overall, memberships were steady month by month over the years."
   ]
  },
  {
   "cell_type": "markdown",
   "metadata": {},
   "source": [
    "## 2. Transcript Data:\n",
    "- There are 306,534 transcript records.\n",
    "\n",
    "- There are 4 distinct types of events - offer received, offer viewed, offer completed and transaction.\n",
    "\n",
    "- The days since test start range from 0 to 29 days.\n",
    "\n",
    "- The following were the mean days since test start for each event type: \n",
    "   \n",
    "   Offer received:\t 13.86 days\n",
    "   \n",
    "   Offer viewed:\t 14.46 days\n",
    "   \n",
    "   Offer completed: 16.35 days\n",
    "   \n",
    "   Transactions:\t 15.53 days\n",
    "\n",
    "\n",
    "- Transactions were the most common event types, followed by offer received, offer viewed and offer completed.\n",
    "\n",
    "- On average, customers completed 8 transactions and have a mean transaction amount of ~$13\n",
    "\n",
    "- When looking at the distribution of days since test start, we can see clear spikes on days 0,7,14,21 which suggests that tests commence weekly. \n",
    "\n",
    "- No missing values.\n"
   ]
  },
  {
   "cell_type": "markdown",
   "metadata": {},
   "source": [
    "## 3. Portfolio Data:\n",
    "- 10 unique offers in the portfolio of offers.\n",
    "\n",
    "- Offers can be bogo (buy one get one free), discount or  informational  offers.\n",
    "\n",
    "- Offers can come from web, email mobile or social channels.\n",
    "\n",
    "- The most popular channels for bogo offers were email and mobile.\n",
    "- The most popular channels for discount offers were email and web.\n",
    "- The most popular channels for informational offers were email and mobile.\n",
    "\n"
   ]
  },
  {
   "cell_type": "markdown",
   "metadata": {},
   "source": [
    "---\n",
    "<a id='section3'><h1> 3. Modelling Prep </h1></a>\n",
    "\n",
    "---"
   ]
  },
  {
   "cell_type": "markdown",
   "metadata": {},
   "source": [
    "### Merge Datasets"
   ]
  },
  {
   "cell_type": "markdown",
   "metadata": {},
   "source": [
    "Merge all 3 datasets and produce one final, master cleaned dataset for modelling."
   ]
  },
  {
   "cell_type": "code",
   "execution_count": 34,
   "metadata": {},
   "outputs": [],
   "source": [
    "# merge transcript and profile dataframes\n",
    "transcript_profile = pd.merge(transcript, profile, left_on=['customer_id'], right_on = ['id'], how ='left')\n",
    "\n",
    "#drop duplicate customer id column\n",
    "transcript_profile.drop('id', axis=1, inplace=True)\n",
    "\n",
    "#merge transcript, profile and portfolio dataframes\n",
    "final_data = pd.merge(transcript_profile, portfolio, left_on=['offer_id'], right_on = ['id'], how ='left')\\\n",
    "                .drop('id', axis=1)"
   ]
  },
  {
   "cell_type": "markdown",
   "metadata": {},
   "source": [
    "There were 3 more questions from my initial EDA I wanted to answer before dropping the transaction data for the final modelling dataset and they were as follows:"
   ]
  },
  {
   "cell_type": "markdown",
   "metadata": {},
   "source": [
    "### Q12. What was the mean spend and number of transactions by gender?\n",
    "Number of Transactions and Transaction Amounts by Gender"
   ]
  },
  {
   "cell_type": "code",
   "execution_count": 35,
   "metadata": {},
   "outputs": [
    {
     "data": {
      "image/png": "[encoded data removed]",
      "text/plain": [
       "<Figure size 1080x360 with 2 Axes>"
      ]
     },
     "metadata": {
      "needs_background": "light"
     },
     "output_type": "display_data"
    }
   ],
   "source": [
    "fig, (ax1, ax2) = plt.subplots(1,2, figsize=(15,5))\n",
    "\n",
    "final_data.groupby('gender')['transaction_amount'].mean()[['M', 'F', 'O', 'U']]\\\n",
    "                            .plot(kind='bar', ax=ax1, color=[\"#219ebc\",\"#fb8500\",\"#f72585\",\"#70e000\"]);\n",
    "ax1.set_xticklabels(ax1.get_xticklabels(), rotation=0)\n",
    "ax1.set_xlabel(\"Gender\")\n",
    "ax1.set_ylabel(\"Spend ($)\")\n",
    "ax1.set_title(\"Mean Spend ($) by Gender\")\n",
    "\n",
    "final_data.groupby('gender')['transaction_amount'].count()[['M', 'F', 'O', 'U']]\\\n",
    "                            .plot(kind='bar', ax=ax2, color=[\"#219ebc\",\"#fb8500\",\"#f72585\",\"#70e000\"]);\n",
    "ax2.set_xticklabels(ax1.get_xticklabels(), rotation=0)\n",
    "ax2.set_xlabel(\"Gender\")\n",
    "ax2.set_ylabel(\"Number of Transactions\")\n",
    "ax2.set_title(\"Number of Transactions by Gender\");"
   ]
  },
  {
   "cell_type": "markdown",
   "metadata": {},
   "source": [
    "On average, females spent the most even though they were only the second largest gender group in the customer dataset. The mean spend for 'others' was quite high as well but this is likely very skewed as the proportion of 'others' in the dataset is the smallest of the four gender categories defined."
   ]
  },
  {
   "cell_type": "markdown",
   "metadata": {},
   "source": [
    "### Q13. What offer types were most popular across age groups and income groups?\n",
    "Offer Types across ages and Income"
   ]
  },
  {
   "cell_type": "code",
   "execution_count": 36,
   "metadata": {},
   "outputs": [
    {
     "data": {
      "image/png": "[encoded data removed]",
      "text/plain": [
       "<Figure size 1440x360 with 2 Axes>"
      ]
     },
     "metadata": {
      "needs_background": "light"
     },
     "output_type": "display_data"
    }
   ],
   "source": [
    "plt.figure(figsize = [20,5])\n",
    "\n",
    "plt.subplot(1,2,1)\n",
    "x = sns.countplot(data = final_data, x = 'age_group', hue = 'event')\n",
    "plt.title('Offer Types Across Age Groups')\n",
    "plt.ylabel('Count')\n",
    "plt.xlabel('Age Group')\n",
    "plt.xticks(rotation = 0)\n",
    "\n",
    "plt.subplot(1,2,2)\n",
    "x = sns.countplot(data = final_data, x = 'income_group', hue = 'event')\n",
    "plt.title('Offer Types Across Income Groups')\n",
    "plt.ylabel('Count')\n",
    "plt.xlabel('Income Group')\n",
    "plt.xticks(rotation = 0);"
   ]
  },
  {
   "cell_type": "markdown",
   "metadata": {},
   "source": [
    "As to be expected because of the distribution of ages across the customer dataset, those aged 55-64 completed the most offers and also had the most transactions. The breakdown of events was quite similar across age groups which isn't the most helpful is identifying key traits of a certain age demographic.\n",
    "\n",
    "Interestingly, below average and average income customers had nearly the same amount of transactions compared to those with above average income. Customers with average income completed the most offers, followed by those with below average income and those with above average income."
   ]
  },
  {
   "cell_type": "markdown",
   "metadata": {},
   "source": [
    "### Q14. What offer types were most popular across genders and membership years?\n",
    "Offer Types across Gender and Membership Year"
   ]
  },
  {
   "cell_type": "code",
   "execution_count": 37,
   "metadata": {},
   "outputs": [
    {
     "data": {
      "image/png": "[encoded data removed]",
      "text/plain": [
       "<Figure size 1440x360 with 2 Axes>"
      ]
     },
     "metadata": {
      "needs_background": "light"
     },
     "output_type": "display_data"
    }
   ],
   "source": [
    "plt.figure(figsize = [20,5])\n",
    "\n",
    "plt.subplot(1,2,1)\n",
    "x = sns.countplot(data = final_data, x = 'gender', hue = 'event')\n",
    "plt.title('Offer Types Across Genders')\n",
    "plt.ylabel('Count')\n",
    "plt.xlabel('Gender')\n",
    "plt.xticks(rotation = 0)\n",
    "\n",
    "plt.subplot(1,2,2)\n",
    "x = sns.countplot(data = final_data, x = 'membership_year', hue = 'event')\n",
    "plt.title('Offer Types Across Membership Year Cohorts')\n",
    "plt.ylabel('Count')\n",
    "plt.xlabel('Membership Year')\n",
    "plt.xticks(rotation = 0);"
   ]
  },
  {
   "cell_type": "markdown",
   "metadata": {},
   "source": [
    "Males completed far more transactions than offers compared to females. Also, those missing a gender in the dataset ('Unknown' gender) completed very few offers. Perhaps offers are tailored towards gender and customers missing this datapoint would received generic offers rather than tailored ones. Customers who became members in 2016 and 2017 completed the most offers and transactions. The number of offers completed was steadily increasing frmo 2013 to 2017 before it dropped in 2018. The strategy for offers/ difficulty possibly changed between 2017 and 2018."
   ]
  },
  {
   "cell_type": "code",
   "execution_count": 38,
   "metadata": {},
   "outputs": [],
   "source": [
    "#Drop any rows which relate to transactions\n",
    "# as we are only interested in offers for this exercise\n",
    "final_data = final_data[final_data.event != 'transaction']\n",
    "final_data.reset_index(inplace=True, drop=True)"
   ]
  },
  {
   "cell_type": "markdown",
   "metadata": {},
   "source": [
    "### Label Encoding"
   ]
  },
  {
   "cell_type": "code",
   "execution_count": 39,
   "metadata": {},
   "outputs": [],
   "source": [
    "#Label encode features such as customer id, offer id, gender, etc\n",
    "le = LabelEncoder()\n",
    "\n",
    "cols_to_encode = ['customer_id', 'offer_id', 'gender', 'membership_year', 'age_group', 'income_group']\n",
    "cols_to_drop = ['days_since_test_start', 'age', 'became_member_on', 'income', 'transaction_amount']\n",
    "\n",
    "for col in cols_to_encode:\n",
    "    le.fit(final_data[col])\n",
    "    final_data[col] = le.fit_transform(final_data[col].astype(str))\n",
    "    \n",
    "# drop columns no longer necessary\n",
    "final_data.drop(cols_to_drop, axis=1, inplace=True)\n",
    "\n",
    "# add _hours to duration column title to match time_hours\n",
    "final_data.rename(columns={'duration':'duration_hours'}, inplace=True)"
   ]
  },
  {
   "cell_type": "markdown",
   "metadata": {},
   "source": [
    "### Target Creation"
   ]
  },
  {
   "cell_type": "markdown",
   "metadata": {},
   "source": [
    "For this exercise, we are interested in **predicting whether a customer is likely to be influenced to complete an offer.** i.e. if they complete an offer, was it completed organically or was it inflenced by them viewing the offer before completing it? For a company like Starbucks, this would allow for targeted marketing towards customers likely to be influenced to complete offers rather than simply targeting the entire customer base or those who would complete the offer regardless.\n",
    "\n",
    "Remember, ```\"a user can receive an offer, never actually view the offer, and still complete the offer. For example, a user might receive the \"buy 10 dollars get 2 dollars off offer\", but the user never opens the offer during the 10 day validity period. The customer spends 15 dollars during those ten days. There will be an offer completion record in the data set; however, the customer was not influenced by the offer because the customer never viewed the offer.\"```"
   ]
  },
  {
   "cell_type": "markdown",
   "metadata": {},
   "source": [
    "Before we check which offers were influenced versus not influenced, we need to sort the dataframe by customer id, offer id and time to ensure we look at events in order."
   ]
  },
  {
   "cell_type": "code",
   "execution_count": 40,
   "metadata": {},
   "outputs": [
    {
     "name": "stdout",
     "output_type": "stream",
     "text": [
      "Wall time: 67.6 ms\n"
     ]
    }
   ],
   "source": [
    "%%time \n",
    "\n",
    "final_data.sort_values(['customer_id', 'offer_id', 'time_hours'], ascending=['True', 'True', 'True'], inplace=True,\n",
    "                       ignore_index=True)"
   ]
  },
  {
   "cell_type": "markdown",
   "metadata": {},
   "source": [
    "The following cell takes **~3-4 mins** to run."
   ]
  },
  {
   "cell_type": "code",
   "execution_count": 41,
   "metadata": {},
   "outputs": [
    {
     "name": "stdout",
     "output_type": "stream",
     "text": [
      "Wall time: 3min 15s\n"
     ]
    }
   ],
   "source": [
    "%%time\n",
    "\n",
    "# manually label the first row\n",
    "final_data['target'] = np.nan\n",
    "final_data.loc[0, 'target'] = 0\n",
    "\n",
    "for i in range(1, len(final_data)):\n",
    "    # if offer was viewed before it was completed, positive event, else negative event\n",
    "    if ((final_data.loc[i, 'event'] == 'offer completed') and (final_data.loc[i-1, 'event'] == 'offer viewed') \\\n",
    "        and (final_data.loc[i, 'offer_id'] == final_data.loc[i-1, 'offer_id']) \\\n",
    "        and (final_data.loc[i, 'customer_id'] == final_data.loc[i-1, 'customer_id']) \\\n",
    "        and (final_data.loc[i, 'time_hours'] >= final_data.loc[i-1, 'time_hours'])):\n",
    "        final_data.loc[i, 'target'] = 1 \n",
    "    else:\n",
    "        final_data.loc[i, 'target'] = 0"
   ]
  },
  {
   "cell_type": "markdown",
   "metadata": {},
   "source": [
    "Now that we've established which of the 'offer completed' events were organic versus which were influenced from an offer in the app, we can drop all other events."
   ]
  },
  {
   "cell_type": "code",
   "execution_count": 42,
   "metadata": {},
   "outputs": [
    {
     "name": "stdout",
     "output_type": "stream",
     "text": [
      "1.0    70.164547\n",
      "0.0    29.835453\n",
      "Name: target, dtype: float64\n",
      "(33182, 19)\n"
     ]
    }
   ],
   "source": [
    "# only keep rows related to offers completed, either organically or from influence\n",
    "final_data = final_data[final_data.event == 'offer completed']\n",
    "\n",
    "# drop cols that won't be used in modelling\n",
    "final_data.drop(['customer_id','event'], axis=1, inplace=True)\n",
    "\n",
    "# investigate event ratio\n",
    "print(final_data.target.value_counts(normalize=True).mul(100))\n",
    "\n",
    "print(final_data.shape)"
   ]
  },
  {
   "cell_type": "code",
   "execution_count": 43,
   "metadata": {},
   "outputs": [
    {
     "data": {
      "image/png": "[encoded data removed]",
      "text/plain": [
       "<Figure size 720x360 with 1 Axes>"
      ]
     },
     "metadata": {
      "needs_background": "light"
     },
     "output_type": "display_data"
    }
   ],
   "source": [
    "fig, ax = plt.subplots(figsize=(10,5))\n",
    "\n",
    "# event ratio\n",
    "final_data.target.value_counts().sort_index().plot(kind='bar', color=['#219ebc', '#fb8500'])\n",
    "ax.set_xticklabels(ax.get_xticklabels(), rotation=0)\n",
    "ax.set_title('Offers Completed Event Ratio (0 = Not Influenced, 1 = Influenced)')\n",
    "ax.set_xlabel('Target')\n",
    "ax.set_ylabel('Count');"
   ]
  },
  {
   "cell_type": "markdown",
   "metadata": {},
   "source": [
    "### Normalise Numeric Attributes"
   ]
  },
  {
   "cell_type": "code",
   "execution_count": 44,
   "metadata": {},
   "outputs": [],
   "source": [
    "# convert floats to ints\n",
    "change_dtype_cols = ['offer_bogo', 'offer_discount', 'offer_informational',\n",
    "                     'channel_email', 'channel_mobile', 'channel_social', 'channel_web', 'target']\n",
    "\n",
    "for col in change_dtype_cols:\n",
    "    final_data[col] = final_data[col].astype(int)\n",
    "    \n",
    "# normalise some numeric attributes\n",
    "scaler = MinMaxScaler()\n",
    "features_to_scale = ['time_hours', 'tenure_in_months', 'reward', 'difficulty', 'duration_hours']\n",
    "final_data[features_to_scale] = scaler.fit_transform(final_data[features_to_scale])"
   ]
  },
  {
   "cell_type": "code",
   "execution_count": 45,
   "metadata": {},
   "outputs": [],
   "source": [
    "# Drop columns which have only 1 unique value and don't add anything to the dataset\n",
    "final_data.drop(['channel_email', 'offer_informational'], axis=1, inplace=True)"
   ]
  },
  {
   "cell_type": "markdown",
   "metadata": {},
   "source": [
    "## Correlation Matrix"
   ]
  },
  {
   "cell_type": "code",
   "execution_count": 46,
   "metadata": {},
   "outputs": [
    {
     "data": {
      "image/png": "[encoded data removed]",
      "text/plain": [
       "<Figure size 1440x720 with 2 Axes>"
      ]
     },
     "metadata": {
      "needs_background": "light"
     },
     "output_type": "display_data"
    }
   ],
   "source": [
    "plt.figure(figsize = [20,10])\n",
    "\n",
    "#correlation matrix\n",
    "corr = final_data.loc[:, final_data.columns != 'target'].corr()\n",
    "#only plot half\n",
    "matrix = np.triu(corr)\n",
    "\n",
    "sns.heatmap(corr, mask=matrix, annot = True, fmt = '.2f', cmap = 'PiYG', center = 0)\n",
    "plt.title('Corelation Matrix');"
   ]
  },
  {
   "cell_type": "code",
   "execution_count": 47,
   "metadata": {},
   "outputs": [
    {
     "data": {
      "text/plain": [
       "RangeIndex(start=0, stop=33182, step=1)"
      ]
     },
     "execution_count": 47,
     "metadata": {},
     "output_type": "execute_result"
    }
   ],
   "source": [
    "# reset and check index\n",
    "final_data.reset_index(inplace=True, drop=True)\n",
    "final_data.index"
   ]
  },
  {
   "cell_type": "code",
   "execution_count": 48,
   "metadata": {},
   "outputs": [
    {
     "name": "stdout",
     "output_type": "stream",
     "text": [
      "**************************************************\n",
      "\t\tShape\n",
      "**************************************************\n",
      "(33182, 17)\n",
      "**************************************************\n",
      "\t\tDtypes\n",
      "**************************************************\n",
      "time_hours          float64\n",
      "offer_id              int32\n",
      "gender                int32\n",
      "tenure_in_months    float64\n",
      "membership_year       int32\n",
      "missing_income        int32\n",
      "age_group             int32\n",
      "income_group          int32\n",
      "reward              float64\n",
      "difficulty          float64\n",
      "duration_hours      float64\n",
      "offer_bogo            int32\n",
      "offer_discount        int32\n",
      "channel_mobile        int32\n",
      "channel_social        int32\n",
      "channel_web           int32\n",
      "target                int32\n",
      "dtype: object\n"
     ]
    },
    {
     "data": {
      "application/vnd.dataresource+json": {
       "data": [
        {
         "age_group": 1,
         "channel_mobile": 1,
         "channel_social": 0,
         "channel_web": 1,
         "difficulty": 0.3333333333,
         "duration_hours": 0.4,
         "gender": 1,
         "income_group": 1,
         "index": 0,
         "membership_year": 4,
         "missing_income": 0,
         "offer_bogo": 0,
         "offer_discount": 1,
         "offer_id": 2,
         "reward": 0,
         "target": 0,
         "tenure_in_months": 0.25,
         "time_hours": 0.8067226891
        },
        {
         "age_group": 1,
         "channel_mobile": 1,
         "channel_social": 1,
         "channel_web": 1,
         "difficulty": 0,
         "duration_hours": 0,
         "gender": 1,
         "income_group": 1,
         "index": 1,
         "membership_year": 4,
         "missing_income": 0,
         "offer_bogo": 1,
         "offer_discount": 0,
         "offer_id": 8,
         "reward": 0.375,
         "target": 0,
         "tenure_in_months": 0.25,
         "time_hours": 0.5798319328
        },
        {
         "age_group": 1,
         "channel_mobile": 1,
         "channel_social": 1,
         "channel_web": 1,
         "difficulty": 0.3333333333,
         "duration_hours": 1,
         "gender": 1,
         "income_group": 1,
         "index": 2,
         "membership_year": 4,
         "missing_income": 0,
         "offer_bogo": 0,
         "offer_discount": 1,
         "offer_id": 9,
         "reward": 0,
         "target": 0,
         "tenure_in_months": 0.25,
         "time_hours": 0.7394957983
        },
        {
         "age_group": 2,
         "channel_mobile": 0,
         "channel_social": 0,
         "channel_web": 1,
         "difficulty": 1,
         "duration_hours": 1,
         "gender": 2,
         "income_group": 2,
         "index": 3,
         "membership_year": 5,
         "missing_income": 0,
         "offer_bogo": 0,
         "offer_discount": 1,
         "offer_id": 0,
         "reward": 0.375,
         "target": 1,
         "tenure_in_months": 0.1,
         "time_hours": 0.8067226891
        },
        {
         "age_group": 2,
         "channel_mobile": 1,
         "channel_social": 1,
         "channel_web": 1,
         "difficulty": 0.1333333333,
         "duration_hours": 0.4,
         "gender": 2,
         "income_group": 2,
         "index": 4,
         "membership_year": 5,
         "missing_income": 0,
         "offer_bogo": 0,
         "offer_discount": 1,
         "offer_id": 1,
         "reward": 0.125,
         "target": 1,
         "tenure_in_months": 0.1,
         "time_hours": 0.3529411765
        }
       ],
       "schema": {
        "fields": [
         {
          "name": "index",
          "type": "integer"
         },
         {
          "name": "time_hours",
          "type": "number"
         },
         {
          "name": "offer_id",
          "type": "integer"
         },
         {
          "name": "gender",
          "type": "integer"
         },
         {
          "name": "tenure_in_months",
          "type": "number"
         },
         {
          "name": "membership_year",
          "type": "integer"
         },
         {
          "name": "missing_income",
          "type": "integer"
         },
         {
          "name": "age_group",
          "type": "integer"
         },
         {
          "name": "income_group",
          "type": "integer"
         },
         {
          "name": "reward",
          "type": "number"
         },
         {
          "name": "difficulty",
          "type": "number"
         },
         {
          "name": "duration_hours",
          "type": "number"
         },
         {
          "name": "offer_bogo",
          "type": "integer"
         },
         {
          "name": "offer_discount",
          "type": "integer"
         },
         {
          "name": "channel_mobile",
          "type": "integer"
         },
         {
          "name": "channel_social",
          "type": "integer"
         },
         {
          "name": "channel_web",
          "type": "integer"
         },
         {
          "name": "target",
          "type": "integer"
         }
        ],
        "pandas_version": "0.20.0",
        "primaryKey": [
         "index"
        ]
       }
      },
      "text/html": [
       "<div>\n",
       "<style scoped>\n",
       "    .dataframe tbody tr th:only-of-type {\n",
       "        vertical-align: middle;\n",
       "    }\n",
       "\n",
       "    .dataframe tbody tr th {\n",
       "        vertical-align: top;\n",
       "    }\n",
       "\n",
       "    .dataframe thead th {\n",
       "        text-align: right;\n",
       "    }\n",
       "</style>\n",
       "<table border=\"1\" class=\"dataframe\">\n",
       "  <thead>\n",
       "    <tr style=\"text-align: right;\">\n",
       "      <th></th>\n",
       "      <th>time_hours</th>\n",
       "      <th>offer_id</th>\n",
       "      <th>gender</th>\n",
       "      <th>tenure_in_months</th>\n",
       "      <th>membership_year</th>\n",
       "      <th>missing_income</th>\n",
       "      <th>age_group</th>\n",
       "      <th>income_group</th>\n",
       "      <th>reward</th>\n",
       "      <th>difficulty</th>\n",
       "      <th>duration_hours</th>\n",
       "      <th>offer_bogo</th>\n",
       "      <th>offer_discount</th>\n",
       "      <th>channel_mobile</th>\n",
       "      <th>channel_social</th>\n",
       "      <th>channel_web</th>\n",
       "      <th>target</th>\n",
       "    </tr>\n",
       "  </thead>\n",
       "  <tbody>\n",
       "    <tr>\n",
       "      <th>0</th>\n",
       "      <td>0.806723</td>\n",
       "      <td>2</td>\n",
       "      <td>1</td>\n",
       "      <td>0.25</td>\n",
       "      <td>4</td>\n",
       "      <td>0</td>\n",
       "      <td>1</td>\n",
       "      <td>1</td>\n",
       "      <td>0.000</td>\n",
       "      <td>0.333333</td>\n",
       "      <td>0.4</td>\n",
       "      <td>0</td>\n",
       "      <td>1</td>\n",
       "      <td>1</td>\n",
       "      <td>0</td>\n",
       "      <td>1</td>\n",
       "      <td>0</td>\n",
       "    </tr>\n",
       "    <tr>\n",
       "      <th>1</th>\n",
       "      <td>0.579832</td>\n",
       "      <td>8</td>\n",
       "      <td>1</td>\n",
       "      <td>0.25</td>\n",
       "      <td>4</td>\n",
       "      <td>0</td>\n",
       "      <td>1</td>\n",
       "      <td>1</td>\n",
       "      <td>0.375</td>\n",
       "      <td>0.000000</td>\n",
       "      <td>0.0</td>\n",
       "      <td>1</td>\n",
       "      <td>0</td>\n",
       "      <td>1</td>\n",
       "      <td>1</td>\n",
       "      <td>1</td>\n",
       "      <td>0</td>\n",
       "    </tr>\n",
       "    <tr>\n",
       "      <th>2</th>\n",
       "      <td>0.739496</td>\n",
       "      <td>9</td>\n",
       "      <td>1</td>\n",
       "      <td>0.25</td>\n",
       "      <td>4</td>\n",
       "      <td>0</td>\n",
       "      <td>1</td>\n",
       "      <td>1</td>\n",
       "      <td>0.000</td>\n",
       "      <td>0.333333</td>\n",
       "      <td>1.0</td>\n",
       "      <td>0</td>\n",
       "      <td>1</td>\n",
       "      <td>1</td>\n",
       "      <td>1</td>\n",
       "      <td>1</td>\n",
       "      <td>0</td>\n",
       "    </tr>\n",
       "    <tr>\n",
       "      <th>3</th>\n",
       "      <td>0.806723</td>\n",
       "      <td>0</td>\n",
       "      <td>2</td>\n",
       "      <td>0.10</td>\n",
       "      <td>5</td>\n",
       "      <td>0</td>\n",
       "      <td>2</td>\n",
       "      <td>2</td>\n",
       "      <td>0.375</td>\n",
       "      <td>1.000000</td>\n",
       "      <td>1.0</td>\n",
       "      <td>0</td>\n",
       "      <td>1</td>\n",
       "      <td>0</td>\n",
       "      <td>0</td>\n",
       "      <td>1</td>\n",
       "      <td>1</td>\n",
       "    </tr>\n",
       "    <tr>\n",
       "      <th>4</th>\n",
       "      <td>0.352941</td>\n",
       "      <td>1</td>\n",
       "      <td>2</td>\n",
       "      <td>0.10</td>\n",
       "      <td>5</td>\n",
       "      <td>0</td>\n",
       "      <td>2</td>\n",
       "      <td>2</td>\n",
       "      <td>0.125</td>\n",
       "      <td>0.133333</td>\n",
       "      <td>0.4</td>\n",
       "      <td>0</td>\n",
       "      <td>1</td>\n",
       "      <td>1</td>\n",
       "      <td>1</td>\n",
       "      <td>1</td>\n",
       "      <td>1</td>\n",
       "    </tr>\n",
       "  </tbody>\n",
       "</table>\n",
       "</div>"
      ],
      "text/plain": [
       "   time_hours  offer_id  gender  tenure_in_months  membership_year  \\\n",
       "0    0.806723         2       1              0.25                4   \n",
       "1    0.579832         8       1              0.25                4   \n",
       "2    0.739496         9       1              0.25                4   \n",
       "3    0.806723         0       2              0.10                5   \n",
       "4    0.352941         1       2              0.10                5   \n",
       "\n",
       "   missing_income  age_group  income_group  reward  difficulty  \\\n",
       "0               0          1             1   0.000    0.333333   \n",
       "1               0          1             1   0.375    0.000000   \n",
       "2               0          1             1   0.000    0.333333   \n",
       "3               0          2             2   0.375    1.000000   \n",
       "4               0          2             2   0.125    0.133333   \n",
       "\n",
       "   duration_hours  offer_bogo  offer_discount  channel_mobile  channel_social  \\\n",
       "0             0.4           0               1               1               0   \n",
       "1             0.0           1               0               1               1   \n",
       "2             1.0           0               1               1               1   \n",
       "3             1.0           0               1               0               0   \n",
       "4             0.4           0               1               1               1   \n",
       "\n",
       "   channel_web  target  \n",
       "0            1       0  \n",
       "1            1       0  \n",
       "2            1       0  \n",
       "3            1       1  \n",
       "4            1       1  "
      ]
     },
     "execution_count": 48,
     "metadata": {},
     "output_type": "execute_result"
    }
   ],
   "source": [
    "# Check shape, dtypes and sample of final dataset\n",
    "print_line('Shape')\n",
    "print(final_data.shape)\n",
    "print_line('Dtypes')\n",
    "print(final_data.dtypes)\n",
    "final_data.head()"
   ]
  },
  {
   "cell_type": "markdown",
   "metadata": {},
   "source": [
    "---\n",
    "<a id='section4'><h1> 4. Modelling</h1></a>\n",
    "\n",
    "---"
   ]
  },
  {
   "cell_type": "markdown",
   "metadata": {},
   "source": [
    "The following are the attributes which will be used for the model:"
   ]
  },
  {
   "cell_type": "code",
   "execution_count": 49,
   "metadata": {},
   "outputs": [
    {
     "data": {
      "text/plain": [
       "Index(['time_hours', 'offer_id', 'gender', 'tenure_in_months',\n",
       "       'membership_year', 'missing_income', 'age_group', 'income_group',\n",
       "       'reward', 'difficulty', 'duration_hours', 'offer_bogo',\n",
       "       'offer_discount', 'channel_mobile', 'channel_social', 'channel_web'],\n",
       "      dtype='object')"
      ]
     },
     "execution_count": 49,
     "metadata": {},
     "output_type": "execute_result"
    }
   ],
   "source": [
    "# all columns except target variable\n",
    "final_data.loc[:, final_data.columns != 'target'].columns"
   ]
  },
  {
   "cell_type": "code",
   "execution_count": 50,
   "metadata": {},
   "outputs": [
    {
     "name": "stdout",
     "output_type": "stream",
     "text": [
      "Index(['time_hours', 'offer_id', 'gender', 'tenure_in_months',\n",
      "       'membership_year', 'missing_income', 'age_group', 'income_group',\n",
      "       'reward', 'difficulty', 'duration_hours', 'offer_bogo',\n",
      "       'offer_discount', 'channel_mobile', 'channel_social', 'channel_web'],\n",
      "      dtype='object')\n",
      "(33182, 16)\n",
      "(33182,)\n"
     ]
    }
   ],
   "source": [
    "# split data into features and target\n",
    "X = final_data.copy()\n",
    "y = X['target']\n",
    "X.pop('target')\n",
    "\n",
    "print(X.columns)\n",
    "print(X.shape)\n",
    "print(y.shape)"
   ]
  },
  {
   "cell_type": "code",
   "execution_count": 51,
   "metadata": {},
   "outputs": [
    {
     "data": {
      "application/vnd.dataresource+json": {
       "data": [
        {
         "age_group": 1,
         "channel_mobile": 1,
         "channel_social": 0,
         "channel_web": 1,
         "difficulty": 0.3333333333,
         "duration_hours": 0.4,
         "gender": 1,
         "income_group": 1,
         "index": 0,
         "membership_year": 4,
         "missing_income": 0,
         "offer_bogo": 0,
         "offer_discount": 1,
         "offer_id": 2,
         "reward": 0,
         "tenure_in_months": 0.25,
         "time_hours": 0.8067226891
        },
        {
         "age_group": 1,
         "channel_mobile": 1,
         "channel_social": 1,
         "channel_web": 1,
         "difficulty": 0,
         "duration_hours": 0,
         "gender": 1,
         "income_group": 1,
         "index": 1,
         "membership_year": 4,
         "missing_income": 0,
         "offer_bogo": 1,
         "offer_discount": 0,
         "offer_id": 8,
         "reward": 0.375,
         "tenure_in_months": 0.25,
         "time_hours": 0.5798319328
        },
        {
         "age_group": 1,
         "channel_mobile": 1,
         "channel_social": 1,
         "channel_web": 1,
         "difficulty": 0.3333333333,
         "duration_hours": 1,
         "gender": 1,
         "income_group": 1,
         "index": 2,
         "membership_year": 4,
         "missing_income": 0,
         "offer_bogo": 0,
         "offer_discount": 1,
         "offer_id": 9,
         "reward": 0,
         "tenure_in_months": 0.25,
         "time_hours": 0.7394957983
        },
        {
         "age_group": 2,
         "channel_mobile": 0,
         "channel_social": 0,
         "channel_web": 1,
         "difficulty": 1,
         "duration_hours": 1,
         "gender": 2,
         "income_group": 2,
         "index": 3,
         "membership_year": 5,
         "missing_income": 0,
         "offer_bogo": 0,
         "offer_discount": 1,
         "offer_id": 0,
         "reward": 0.375,
         "tenure_in_months": 0.1,
         "time_hours": 0.8067226891
        },
        {
         "age_group": 2,
         "channel_mobile": 1,
         "channel_social": 1,
         "channel_web": 1,
         "difficulty": 0.1333333333,
         "duration_hours": 0.4,
         "gender": 2,
         "income_group": 2,
         "index": 4,
         "membership_year": 5,
         "missing_income": 0,
         "offer_bogo": 0,
         "offer_discount": 1,
         "offer_id": 1,
         "reward": 0.125,
         "tenure_in_months": 0.1,
         "time_hours": 0.3529411765
        }
       ],
       "schema": {
        "fields": [
         {
          "name": "index",
          "type": "integer"
         },
         {
          "name": "time_hours",
          "type": "number"
         },
         {
          "name": "offer_id",
          "type": "integer"
         },
         {
          "name": "gender",
          "type": "integer"
         },
         {
          "name": "tenure_in_months",
          "type": "number"
         },
         {
          "name": "membership_year",
          "type": "integer"
         },
         {
          "name": "missing_income",
          "type": "integer"
         },
         {
          "name": "age_group",
          "type": "integer"
         },
         {
          "name": "income_group",
          "type": "integer"
         },
         {
          "name": "reward",
          "type": "number"
         },
         {
          "name": "difficulty",
          "type": "number"
         },
         {
          "name": "duration_hours",
          "type": "number"
         },
         {
          "name": "offer_bogo",
          "type": "integer"
         },
         {
          "name": "offer_discount",
          "type": "integer"
         },
         {
          "name": "channel_mobile",
          "type": "integer"
         },
         {
          "name": "channel_social",
          "type": "integer"
         },
         {
          "name": "channel_web",
          "type": "integer"
         }
        ],
        "pandas_version": "0.20.0",
        "primaryKey": [
         "index"
        ]
       }
      },
      "text/html": [
       "<div>\n",
       "<style scoped>\n",
       "    .dataframe tbody tr th:only-of-type {\n",
       "        vertical-align: middle;\n",
       "    }\n",
       "\n",
       "    .dataframe tbody tr th {\n",
       "        vertical-align: top;\n",
       "    }\n",
       "\n",
       "    .dataframe thead th {\n",
       "        text-align: right;\n",
       "    }\n",
       "</style>\n",
       "<table border=\"1\" class=\"dataframe\">\n",
       "  <thead>\n",
       "    <tr style=\"text-align: right;\">\n",
       "      <th></th>\n",
       "      <th>time_hours</th>\n",
       "      <th>offer_id</th>\n",
       "      <th>gender</th>\n",
       "      <th>tenure_in_months</th>\n",
       "      <th>membership_year</th>\n",
       "      <th>missing_income</th>\n",
       "      <th>age_group</th>\n",
       "      <th>income_group</th>\n",
       "      <th>reward</th>\n",
       "      <th>difficulty</th>\n",
       "      <th>duration_hours</th>\n",
       "      <th>offer_bogo</th>\n",
       "      <th>offer_discount</th>\n",
       "      <th>channel_mobile</th>\n",
       "      <th>channel_social</th>\n",
       "      <th>channel_web</th>\n",
       "    </tr>\n",
       "  </thead>\n",
       "  <tbody>\n",
       "    <tr>\n",
       "      <th>0</th>\n",
       "      <td>0.806723</td>\n",
       "      <td>2</td>\n",
       "      <td>1</td>\n",
       "      <td>0.25</td>\n",
       "      <td>4</td>\n",
       "      <td>0</td>\n",
       "      <td>1</td>\n",
       "      <td>1</td>\n",
       "      <td>0.000</td>\n",
       "      <td>0.333333</td>\n",
       "      <td>0.4</td>\n",
       "      <td>0</td>\n",
       "      <td>1</td>\n",
       "      <td>1</td>\n",
       "      <td>0</td>\n",
       "      <td>1</td>\n",
       "    </tr>\n",
       "    <tr>\n",
       "      <th>1</th>\n",
       "      <td>0.579832</td>\n",
       "      <td>8</td>\n",
       "      <td>1</td>\n",
       "      <td>0.25</td>\n",
       "      <td>4</td>\n",
       "      <td>0</td>\n",
       "      <td>1</td>\n",
       "      <td>1</td>\n",
       "      <td>0.375</td>\n",
       "      <td>0.000000</td>\n",
       "      <td>0.0</td>\n",
       "      <td>1</td>\n",
       "      <td>0</td>\n",
       "      <td>1</td>\n",
       "      <td>1</td>\n",
       "      <td>1</td>\n",
       "    </tr>\n",
       "    <tr>\n",
       "      <th>2</th>\n",
       "      <td>0.739496</td>\n",
       "      <td>9</td>\n",
       "      <td>1</td>\n",
       "      <td>0.25</td>\n",
       "      <td>4</td>\n",
       "      <td>0</td>\n",
       "      <td>1</td>\n",
       "      <td>1</td>\n",
       "      <td>0.000</td>\n",
       "      <td>0.333333</td>\n",
       "      <td>1.0</td>\n",
       "      <td>0</td>\n",
       "      <td>1</td>\n",
       "      <td>1</td>\n",
       "      <td>1</td>\n",
       "      <td>1</td>\n",
       "    </tr>\n",
       "    <tr>\n",
       "      <th>3</th>\n",
       "      <td>0.806723</td>\n",
       "      <td>0</td>\n",
       "      <td>2</td>\n",
       "      <td>0.10</td>\n",
       "      <td>5</td>\n",
       "      <td>0</td>\n",
       "      <td>2</td>\n",
       "      <td>2</td>\n",
       "      <td>0.375</td>\n",
       "      <td>1.000000</td>\n",
       "      <td>1.0</td>\n",
       "      <td>0</td>\n",
       "      <td>1</td>\n",
       "      <td>0</td>\n",
       "      <td>0</td>\n",
       "      <td>1</td>\n",
       "    </tr>\n",
       "    <tr>\n",
       "      <th>4</th>\n",
       "      <td>0.352941</td>\n",
       "      <td>1</td>\n",
       "      <td>2</td>\n",
       "      <td>0.10</td>\n",
       "      <td>5</td>\n",
       "      <td>0</td>\n",
       "      <td>2</td>\n",
       "      <td>2</td>\n",
       "      <td>0.125</td>\n",
       "      <td>0.133333</td>\n",
       "      <td>0.4</td>\n",
       "      <td>0</td>\n",
       "      <td>1</td>\n",
       "      <td>1</td>\n",
       "      <td>1</td>\n",
       "      <td>1</td>\n",
       "    </tr>\n",
       "  </tbody>\n",
       "</table>\n",
       "</div>"
      ],
      "text/plain": [
       "   time_hours  offer_id  gender  tenure_in_months  membership_year  \\\n",
       "0    0.806723         2       1              0.25                4   \n",
       "1    0.579832         8       1              0.25                4   \n",
       "2    0.739496         9       1              0.25                4   \n",
       "3    0.806723         0       2              0.10                5   \n",
       "4    0.352941         1       2              0.10                5   \n",
       "\n",
       "   missing_income  age_group  income_group  reward  difficulty  \\\n",
       "0               0          1             1   0.000    0.333333   \n",
       "1               0          1             1   0.375    0.000000   \n",
       "2               0          1             1   0.000    0.333333   \n",
       "3               0          2             2   0.375    1.000000   \n",
       "4               0          2             2   0.125    0.133333   \n",
       "\n",
       "   duration_hours  offer_bogo  offer_discount  channel_mobile  channel_social  \\\n",
       "0             0.4           0               1               1               0   \n",
       "1             0.0           1               0               1               1   \n",
       "2             1.0           0               1               1               1   \n",
       "3             1.0           0               1               0               0   \n",
       "4             0.4           0               1               1               1   \n",
       "\n",
       "   channel_web  \n",
       "0            1  \n",
       "1            1  \n",
       "2            1  \n",
       "3            1  \n",
       "4            1  "
      ]
     },
     "execution_count": 51,
     "metadata": {},
     "output_type": "execute_result"
    }
   ],
   "source": [
    "X.head()"
   ]
  },
  {
   "cell_type": "code",
   "execution_count": 52,
   "metadata": {},
   "outputs": [],
   "source": [
    "# split data into training and testing sets\n",
    "X_train, X_test, y_train, y_test = train_test_split(X, y, random_state=RANDOM_STATE)"
   ]
  },
  {
   "cell_type": "markdown",
   "metadata": {},
   "source": [
    "## Basic Models"
   ]
  },
  {
   "cell_type": "markdown",
   "metadata": {},
   "source": [
    "### Instantiate model objects"
   ]
  },
  {
   "cell_type": "markdown",
   "metadata": {},
   "source": [
    "In the following cell, a number of different model objects are instantiated. We will check their basic performance and compare metrics. We will then run a GridSearchCV using these models with many more hyperparameters."
   ]
  },
  {
   "cell_type": "code",
   "execution_count": 53,
   "metadata": {},
   "outputs": [],
   "source": [
    "## Random Forest\n",
    "# Model Object\n",
    "rdf = RandomForestClassifier(n_estimators=500, random_state=RANDOM_STATE)\n",
    "\n",
    "## LGR\n",
    "# Model Object\n",
    "lgr = LogisticRegression(random_state=RANDOM_STATE, solver=\"saga\")\n",
    "\n",
    "## Light Gradient Boosting Machine\n",
    "# Model Object\n",
    "gbm = lgbm.LGBMClassifier(random_state=RANDOM_STATE)\n",
    "\n",
    "## SVC\n",
    "# Model Object\n",
    "lsvc = LinearSVC(random_state=RANDOM_STATE)\n",
    "\n",
    "## SGD Classifier\n",
    "# Model Object\n",
    "sgdc = SGDClassifier(random_state=RANDOM_STATE)"
   ]
  },
  {
   "cell_type": "code",
   "execution_count": 54,
   "metadata": {
    "scrolled": false
   },
   "outputs": [
    {
     "name": "stderr",
     "output_type": "stream",
     "text": [
      "C:\\Users\\SNicConmara\\Anaconda3\\lib\\site-packages\\sklearn\\linear_model\\_sag.py:329: ConvergenceWarning: The max_iter was reached which means the coef_ did not converge\n",
      "  warnings.warn(\"The max_iter was reached which means \"\n"
     ]
    },
    {
     "name": "stdout",
     "output_type": "stream",
     "text": [
      "**************************************************\n",
      "\t\tModel:\n",
      "**************************************************\n",
      "LogisticRegression(random_state=42, solver='saga')\n",
      "**************************************************\n",
      "\t\tConfusion Matrix:\n",
      "**************************************************\n",
      "[[1049  795]\n",
      " [1498 4954]]\n",
      "**************************************************\n",
      "\t\tClassification Report:\n",
      "**************************************************\n",
      "              precision    recall  f1-score   support\n",
      "\n",
      "           0       0.41      0.57      0.48      1844\n",
      "           1       0.86      0.77      0.81      6452\n",
      "\n",
      "    accuracy                           0.72      8296\n",
      "   macro avg       0.64      0.67      0.64      8296\n",
      "weighted avg       0.76      0.72      0.74      8296\n",
      "\n",
      "**************************************************\n",
      "\t\tModel:\n",
      "**************************************************\n",
      "RandomForestClassifier(n_estimators=500, random_state=42)\n",
      "**************************************************\n",
      "\t\tConfusion Matrix:\n",
      "**************************************************\n",
      "[[1018  820]\n",
      " [1529 4929]]\n",
      "**************************************************\n",
      "\t\tClassification Report:\n",
      "**************************************************\n",
      "              precision    recall  f1-score   support\n",
      "\n",
      "           0       0.40      0.55      0.46      1838\n",
      "           1       0.86      0.76      0.81      6458\n",
      "\n",
      "    accuracy                           0.72      8296\n",
      "   macro avg       0.63      0.66      0.64      8296\n",
      "weighted avg       0.76      0.72      0.73      8296\n",
      "\n",
      "**************************************************\n",
      "\t\tModel:\n",
      "**************************************************\n",
      "LGBMClassifier(random_state=42)\n",
      "**************************************************\n",
      "\t\tConfusion Matrix:\n",
      "**************************************************\n",
      "[[1047  650]\n",
      " [1500 5099]]\n",
      "**************************************************\n",
      "\t\tClassification Report:\n",
      "**************************************************\n",
      "              precision    recall  f1-score   support\n",
      "\n",
      "           0       0.41      0.62      0.49      1697\n",
      "           1       0.89      0.77      0.83      6599\n",
      "\n",
      "    accuracy                           0.74      8296\n",
      "   macro avg       0.65      0.69      0.66      8296\n",
      "weighted avg       0.79      0.74      0.76      8296\n",
      "\n"
     ]
    },
    {
     "name": "stderr",
     "output_type": "stream",
     "text": [
      "C:\\Users\\SNicConmara\\Anaconda3\\lib\\site-packages\\sklearn\\svm\\_base.py:976: ConvergenceWarning: Liblinear failed to converge, increase the number of iterations.\n",
      "  warnings.warn(\"Liblinear failed to converge, increase \"\n"
     ]
    },
    {
     "name": "stdout",
     "output_type": "stream",
     "text": [
      "**************************************************\n",
      "\t\tModel:\n",
      "**************************************************\n",
      "LinearSVC(random_state=42)\n",
      "**************************************************\n",
      "\t\tConfusion Matrix:\n",
      "**************************************************\n",
      "[[1033  775]\n",
      " [1514 4974]]\n",
      "**************************************************\n",
      "\t\tClassification Report:\n",
      "**************************************************\n",
      "              precision    recall  f1-score   support\n",
      "\n",
      "           0       0.41      0.57      0.47      1808\n",
      "           1       0.87      0.77      0.81      6488\n",
      "\n",
      "    accuracy                           0.72      8296\n",
      "   macro avg       0.64      0.67      0.64      8296\n",
      "weighted avg       0.77      0.72      0.74      8296\n",
      "\n",
      "**************************************************\n",
      "\t\tModel:\n",
      "**************************************************\n",
      "SGDClassifier(random_state=42)\n",
      "**************************************************\n",
      "\t\tConfusion Matrix:\n",
      "**************************************************\n",
      "[[1021  820]\n",
      " [1526 4929]]\n",
      "**************************************************\n",
      "\t\tClassification Report:\n",
      "**************************************************\n",
      "              precision    recall  f1-score   support\n",
      "\n",
      "           0       0.40      0.55      0.47      1841\n",
      "           1       0.86      0.76      0.81      6455\n",
      "\n",
      "    accuracy                           0.72      8296\n",
      "   macro avg       0.63      0.66      0.64      8296\n",
      "weighted avg       0.76      0.72      0.73      8296\n",
      "\n"
     ]
    }
   ],
   "source": [
    "model_list = [lgr, rdf, gbm, lsvc, sgdc]\n",
    "\n",
    "for model in model_list:\n",
    "    # fit model\n",
    "    model.fit(X_train, y_train)\n",
    "    # predict\n",
    "    y_pred = model.predict(X_test)\n",
    "    # print evaluation metrics\n",
    "    print_line(\"Model:\")\n",
    "    print(model)\n",
    "    print_line(\"Confusion Matrix:\")\n",
    "    print(confusion_matrix(y_pred, y_test))\n",
    "    print_line(\"Classification Report:\")\n",
    "    print(classification_report(y_pred, y_test))"
   ]
  },
  {
   "cell_type": "markdown",
   "metadata": {},
   "source": [
    "## More Complex Models"
   ]
  },
  {
   "cell_type": "markdown",
   "metadata": {},
   "source": [
    "### GridSearchCV"
   ]
  },
  {
   "cell_type": "markdown",
   "metadata": {},
   "source": [
    "**Note:** LightGBM was the best model. To save time, the grid search can be run using only the light GBM grid if desired (please see line 69/70 in the cell below)."
   ]
  },
  {
   "cell_type": "code",
   "execution_count": 55,
   "metadata": {},
   "outputs": [],
   "source": [
    "## LGR\n",
    "\n",
    "# Model Object\n",
    "lgr = LogisticRegression(class_weight=\"balanced\", \n",
    "                         random_state=RANDOM_STATE, \n",
    "                         solver=\"saga\", \n",
    "                         C=1, \n",
    "                         warm_start=False,\n",
    "                         max_iter=500, \n",
    "                         penalty=\"elasticnet\",\n",
    "                         l1_ratio=1)\n",
    "# LGR Parameters\n",
    "p_grid_lgr = {'model': [lgr],\n",
    "              'model__C': np.logspace(-3, 3, 7),\n",
    "              'model__l1_ratio': [0, 0.4, 0.6, 0.8, 1]}\n",
    "\n",
    "## Random Forest\n",
    "\n",
    "# Model Object\n",
    "rdf = RandomForestClassifier(class_weight=\"balanced\", \n",
    "                             random_state=48, \n",
    "                             n_estimators=100, \n",
    "                             oob_score=False, \n",
    "                             max_depth=None)\n",
    "# RDF Parameters\n",
    "p_grid_rdf = {'model': [rdf],\n",
    "              'model__n_estimators': [80, 90, 100, 150, 200],\n",
    "              'model__min_samples_leaf': [3, 5, 10, 20, 35, 50],\n",
    "              'model__max_features': [\"sqrt\", \"log2\"]}\n",
    "\n",
    "## Light Gradient Boosting Machine\n",
    "\n",
    "# Model Object\n",
    "gbm = lgbm.LGBMClassifier(class_weight=\"balanced\", \n",
    "                          random_state=RANDOM_STATE, \n",
    "                          boosting_type=\"gbdt\", \n",
    "                          tree_learner=\"serial\", \n",
    "                          objective=\"binary\")\n",
    "# LGBM Parameters\n",
    "p_grid_gbm = {'model': [gbm],\n",
    "              'model__n_estimators': [90, 100, 200],\n",
    "              'model__max_depth': [3, 12, 63, -1],\n",
    "              'model__num_leaves': [8, 35, 143, 3968],\n",
    "              'model__feature_fraction': [0.7, 0.8, 0.9, 1]}\n",
    "## SVC\n",
    "\n",
    "# Model Object\n",
    "lsvc = LinearSVC(class_weight='balanced',\n",
    "                 penalty='l2',\n",
    "                 dual=False,  # Prefer dual=False when n_samples > n_features.\n",
    "                 random_state=RANDOM_STATE)\n",
    "# SVC Parameters\n",
    "p_grid_lsvc = {'model': [lsvc],\n",
    "               'model__C': np.logspace(-3, 3, 7)}\n",
    "\n",
    "## SGD Classifier\n",
    "\n",
    "# Model Object\n",
    "sgdc = SGDClassifier(random_state=RANDOM_STATE, \n",
    "                     loss='log',\n",
    "                     penalty='elasticnet',\n",
    "                     class_weight='balanced')\n",
    "# SGD Parameters\n",
    "p_grid_sgdc = {'model': [sgdc],\n",
    "               'model__alpha': np.logspace(-6, 2, 10),\n",
    "               'model__l1_ratio': np.linspace(0, 1, 10)}\n",
    "\n",
    "# Parameters\n",
    "p_grid = [p_grid_gbm, p_grid_lsvc, p_grid_rdf, p_grid_sgdc, p_grid_lgr]\n",
    "#p_grid = [p_grid_gbm] # use this p_grid to avoid running entire grid search"
   ]
  },
  {
   "cell_type": "code",
   "execution_count": 56,
   "metadata": {},
   "outputs": [],
   "source": [
    "## Model Training Pipeline\n",
    "\n",
    "# Cross Validation Folds\n",
    "\n",
    "# Stratified CV Count\n",
    "cv = StratifiedKFold(n_splits=3)\n",
    "\n",
    "# SMOTE - Artificial Data to better balance the unbalanced events\n",
    "smote = SMOTE(random_state=RANDOM_STATE)\n",
    "\n",
    "# Pipeline Steps\n",
    "steps = [('SMOTE', smote),\n",
    "         ('model', None)]\n",
    "\n",
    "# Grid\n",
    "model_pipe = imb_pipeline(steps)\n",
    "\n",
    "grid = GridSearchCV(model_pipe,\n",
    "                   param_grid=p_grid,\n",
    "                   cv=cv,\n",
    "                   scoring='accuracy',\n",
    "                   n_jobs=-1,\n",
    "                   verbose=2)"
   ]
  },
  {
   "cell_type": "markdown",
   "metadata": {},
   "source": [
    "Below cell with 1182 fits takes **~8mins** to run if you run the full GridSearchCV"
   ]
  },
  {
   "cell_type": "code",
   "execution_count": 57,
   "metadata": {},
   "outputs": [
    {
     "name": "stdout",
     "output_type": "stream",
     "text": [
      "Fitting 3 folds for each of 394 candidates, totalling 1182 fits\n"
     ]
    },
    {
     "name": "stderr",
     "output_type": "stream",
     "text": [
      "[Parallel(n_jobs=-1)]: Using backend LokyBackend with 8 concurrent workers.\n",
      "[Parallel(n_jobs=-1)]: Done  25 tasks      | elapsed:    6.1s\n",
      "[Parallel(n_jobs=-1)]: Done 146 tasks      | elapsed:   48.4s\n",
      "[Parallel(n_jobs=-1)]: Done 349 tasks      | elapsed:  2.0min\n",
      "[Parallel(n_jobs=-1)]: Done 632 tasks      | elapsed:  4.2min\n",
      "[Parallel(n_jobs=-1)]: Done 997 tasks      | elapsed:  6.3min\n",
      "[Parallel(n_jobs=-1)]: Done 1182 out of 1182 | elapsed:  8.0min finished\n"
     ]
    },
    {
     "name": "stdout",
     "output_type": "stream",
     "text": [
      "[LightGBM] [Warning] feature_fraction is set=0.7, colsample_bytree=1.0 will be ignored. Current value: feature_fraction=0.7\n",
      "Wall time: 8min\n"
     ]
    }
   ],
   "source": [
    "%%time\n",
    "# Model Training\n",
    "\n",
    "# Grid Fit/Score\n",
    "grid.fit(X_train, y_train)\n",
    "grid.score(X_test, y_test)\n",
    "\n",
    "# Model Extraction\n",
    "model = grid.best_estimator_['model']"
   ]
  },
  {
   "cell_type": "markdown",
   "metadata": {},
   "source": [
    "**LGBMClassifier is the best estimator, producing an accuracy score of 0.74**"
   ]
  },
  {
   "cell_type": "code",
   "execution_count": 58,
   "metadata": {},
   "outputs": [
    {
     "data": {
      "text/plain": [
       "LGBMClassifier(class_weight='balanced', feature_fraction=0.7, max_depth=63,\n",
       "               n_estimators=200, num_leaves=35, objective='binary',\n",
       "               random_state=42, tree_learner='serial')"
      ]
     },
     "execution_count": 58,
     "metadata": {},
     "output_type": "execute_result"
    }
   ],
   "source": [
    "model"
   ]
  },
  {
   "cell_type": "markdown",
   "metadata": {},
   "source": [
    "---\n",
    "<a id='section5'><h1> 5. Model Evaluation</h1></a>\n",
    "\n",
    "---"
   ]
  },
  {
   "cell_type": "markdown",
   "metadata": {},
   "source": [
    "### Classification Report and Confusion Matrix"
   ]
  },
  {
   "cell_type": "code",
   "execution_count": 59,
   "metadata": {},
   "outputs": [
    {
     "name": "stdout",
     "output_type": "stream",
     "text": [
      "              precision    recall  f1-score   support\n",
      "\n",
      "           0       0.58      0.50      0.54      2547\n",
      "           1       0.79      0.84      0.82      5749\n",
      "\n",
      "    accuracy                           0.74      8296\n",
      "   macro avg       0.69      0.67      0.68      8296\n",
      "weighted avg       0.73      0.74      0.73      8296\n",
      "\n"
     ]
    },
    {
     "data": {
      "image/png": "[encoded data removed]",
      "text/plain": [
       "<Figure size 216x216 with 1 Axes>"
      ]
     },
     "metadata": {
      "needs_background": "light"
     },
     "output_type": "display_data"
    }
   ],
   "source": [
    "### Model Evaluation\n",
    "\n",
    "## Model Prediction\n",
    "y_pred = model.predict(X_test)\n",
    "\n",
    "print(classification_report(y_test, y_pred))\n",
    "\n",
    "plot_conf_mat(y_test, y_pred)"
   ]
  },
  {
   "cell_type": "markdown",
   "metadata": {},
   "source": [
    "### Feature Importances"
   ]
  },
  {
   "cell_type": "code",
   "execution_count": 60,
   "metadata": {},
   "outputs": [
    {
     "data": {
      "image/png": "[encoded data removed]",
      "text/plain": [
       "<Figure size 1440x720 with 1 Axes>"
      ]
     },
     "metadata": {
      "needs_background": "light"
     },
     "output_type": "display_data"
    }
   ],
   "source": [
    "feat_imp = pd.DataFrame(sorted(zip(model.feature_importances_,X_train.columns)), columns=['Value','Feature'])\n",
    "\n",
    "plt.figure(figsize=(20, 10))\n",
    "sns.barplot(x=\"Value\", y=\"Feature\", data=feat_imp.sort_values(by=\"Value\", ascending=False), color='#219ebc')\n",
    "plt.title('Feature Importances')\n",
    "plt.show()"
   ]
  },
  {
   "cell_type": "markdown",
   "metadata": {},
   "source": [
    "The 3 most important features in this model were the **time in hours since the start of the test**, the **customer's tenure in months** and the **age group** of the customer."
   ]
  },
  {
   "cell_type": "code",
   "execution_count": 61,
   "metadata": {},
   "outputs": [
    {
     "data": {
      "text/plain": [
       "<bound method LGBMModel.get_params of LGBMClassifier(class_weight='balanced', feature_fraction=0.7, max_depth=63,\n",
       "               n_estimators=200, num_leaves=35, objective='binary',\n",
       "               random_state=42, tree_learner='serial')>"
      ]
     },
     "execution_count": 61,
     "metadata": {},
     "output_type": "execute_result"
    }
   ],
   "source": [
    "model.get_params"
   ]
  },
  {
   "cell_type": "markdown",
   "metadata": {},
   "source": [
    "### Improving upon the algorithms and techniques used\n",
    "\n",
    "#### Initial Solution\n",
    "\n",
    "The intitial baseline models all produced acuuracy scores between 0.72 and 0.74 with LightGBM producing the best accuracy. I had always intended to run a GridSearch and therefore kept the parameters very basic initially.\n",
    "\n",
    "#### Final Solution\n",
    "When running the full GridSearchCV with multiple hyperparamters, LightGBM was also the best model overall, producing an accuracy score of 0.74. \"LightGBM is a gradient boosting framework that uses tree based learning algorithms\" [(source)](https://lightgbm.readthedocs.io/en/latest/). LightGBM was likely the best model because it is better in terms of performance an speed and also it \"produces more complex trees by following leaf-wise split approach rather than a level-wise approach\" [(source)](https://www.analyticsvidhya.com/blog/2017/06/which-algorithm-takes-the-crown-light-gbm-vs-xgboost/#:~:text=Better%20accuracy%20than%20any%20other,by%20setting%20the%20max_depth%20parameter.) which allows for better accuracy. I initially experiemented with SMOTE \n",
    "\n",
    "#### Final Model Parameters\n",
    "```LGBMClassifier(class_weight='balanced', feature_fraction=0.7, max_depth=63,n_estimators=200, num_leaves=35, objective='binary',random_state=42, tree_learner='serial')```\n",
    "\n",
    "```class_weight='balanced'``` - modifies the loss function by giving more/less penalties to the classes with more (or less) weight\n",
    "\n",
    "```feature_fraction=0.7``` - 70% of features are selected before training each tree\n",
    "\n",
    "```max_depth=63``` - this is the maximum tree depth\n",
    "\n",
    "```n_estimators=200``` - this is the number of boosted trees to fit\n",
    "\n",
    "``` num_leaves=35``` - this is the maximum number of tree leaves for base learners\n",
    "\n",
    "```objective='binary'```- this specifies the learning task\n",
    "\n",
    "```random_state=42``` - this is the random number seed\n",
    "\n",
    "```tree_learner='serial'``` - this is the default tree_learner (single machine tree learner)\n",
    "\n",
    "[source 1](https://lightgbm.readthedocs.io/en/latest/pythonapi/lightgbm.LGBMClassifier.html)\n",
    "\n",
    "[source 2](https://datascience.stackexchange.com/questions/52627/why-class-weight-is-outperforming-oversampling)\n",
    "               \n",
    "#### Improvements\n",
    "To improve on the current model's performance, we could use a GPU-enabled version of LightGBM to train a model faster [(source)](https://lightgbm.readthedocs.io/en/latest/GPU-Tutorial.html). Early stopping could also be experimented with. Early stopping means that \"after each boosting round the model’s training accuracy is evaluated against a validation set that contains data not available to the training process. That accuracy is then compared to the accuracy as of the previous boosting round. If the model’s accuracy fails to improve for some number of consecutive rounds, LightGBM stops the training process\" [(source)](https://lightgbm.readthedocs.io/en/latest/Parameters-Tuning.html#use-early-stopping)."
   ]
  },
  {
   "cell_type": "markdown",
   "metadata": {},
   "source": [
    "---\n",
    "<a id='section6'><h1> 6. Conclusion</h1></a>\n",
    "\n",
    "---"
   ]
  },
  {
   "cell_type": "markdown",
   "metadata": {},
   "source": [
    "### Conclusion\n",
    "\n",
    "In conclusion, this project **successfully answered the questions I set out to answer via exploratory data analysis and also produced a relatively accuracte supervised machine learning model** to idneitfy customers who would complete an offer without influence and those who would complete an offer as a direct result of viewing the offer in the app beforehand. \n",
    "\n",
    "The questions posed and answered above:\n",
    "\n",
    "**Q1.** What was the age distribution of Starbucks customers in the dataset?\n",
    "\n",
    "**Q2.** What was the distribution of customer tenure in the dataset?\n",
    "\n",
    "**Q3.** What year saw the most new memberships and what month of the year saw the most memberships?\n",
    "\n",
    "**Q4.** What was the gender distribution of customers in the Starbucks dataset? \n",
    "\n",
    "**Q5.** What was the income distribution by gender?\n",
    "\n",
    "**Q6.** What was the income distribution by age group?\n",
    "\n",
    "**Q7.** What was the distribution of events in the transcript dataset?\n",
    "\n",
    "**Q8.** Was there a pattern in the release of offers?\n",
    "\n",
    "**Q9.** What was the distribution of transaction amounts?\n",
    "\n",
    "**Q10.** What were the most common offer types by channel?\n",
    "\n",
    "**Q11.** What were the distributions for duration, reward and difficulty of offers?\n",
    "\n",
    "**Q12.** What was the mean spend and number of transactions by gender?\n",
    "\n",
    "**Q13.** What offer types were most popular across age groups and income groups?\n",
    "\n",
    "**Q14.** What offer types were most popular across genders and membership years?\n",
    "\n",
    "**The final accuracy of the LightGBM model was 0.74.**\n",
    "\n",
    "For a company like Starbucks, this type of a model would be useful in creating **targeted marketing** towards customers likely to be influenced to complete offers rather than simply targeting the entire customer base or those who would complete the offer regardless. This would save Starbucks money if for example they used SMS campaigns or postal campaigns for example. They could also **avoid sending offers to customers who would complete the offer regardless in order to increase profits.**\n",
    "\n",
    "#### Personal Insights\n",
    "\n",
    "An aspect I found slightly difficult was the target variable creation.\n",
    "The challenges surrounding the target variable creation were as follows:\n",
    "- not all users receive the same offer\n",
    "- a user can receive an offer, never view the offer but still 'complete' the offer according to the data\n",
    "- a user can also 'complete' an offer without having received nor viewed it according to the data\n",
    "\n",
    "I solved this by applying the following logic:\n",
    "\n",
    "- a customer was given a **target value of 1 (event)** if they had **completed the offer after having viewed the offer.** It is assumed that a customer would have had to receive the offer in order for it to be possible for them to view it in the app. \n",
    "\n",
    "- If a customer **completed the offer without viewing, viewed the offer after completing it or completed the offer without receiving or viewing it,** they were assigned a **target value of 0 (non-event).**\n",
    "\n",
    "Interestingly, I learned several unexpected things from exploring the Starbucks dataset such as:\n",
    "\n",
    "- below average and average income customers had nearly the same amount of transactions compared to those with above average income. Customers with average income completed the most offers, followed by those with below average income and those with above average income.\n",
    "\n",
    "- when looking at income distribution by gender, the average income of Starbucks customers is higher for females than for males. The distribution of female incomes is also wider and less-skewed than the male income distribution. However, both male and female incomes range from 30k to 120k.\n",
    "\n",
    "Overall, the experience gained from data wrangling, data exploration, \n",
    "data visualisation, feature engineering, data encoding, data scaling, model development and model evaluation has undoubtedly benefitted me and helped me to improve my skills as an aspiring data scientist."
   ]
  }
 ],
 "metadata": {
  "kernelspec": {
   "display_name": "Python 3",
   "language": "python",
   "name": "python3"
  },
  "language_info": {
   "codemirror_mode": {
    "name": "ipython",
    "version": 3
   },
   "file_extension": ".py",
   "mimetype": "text/x-python",
   "name": "python",
   "nbconvert_exporter": "python",
   "pygments_lexer": "ipython3",
   "version": "3.8.5"
  }
 },
 "nbformat": 4,
 "nbformat_minor": 4
}
